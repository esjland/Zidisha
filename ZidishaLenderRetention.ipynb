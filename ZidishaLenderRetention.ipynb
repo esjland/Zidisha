{
 "cells": [
  {
   "cell_type": "markdown",
   "metadata": {},
   "source": [
    "# Predicting lender retention\n",
    "\n",
    "- We create panda data frames using SQL queries (data is small enough to load in the data we need in to memory)\n",
    "- We do feature engineering to find useful features from the data\n",
    "- We implement logistic regression model with regularization, and random forest model to identify the most important features\n",
    "- As random forest was best model, we re-run this model with 100 most predictive features to prevent overfitting; and from this model we end up chosing the 20 most predictive features.\n",
    "\n",
    "## Main findings\n",
    "- Most important features are:\n",
    "'usd invested in first week', 'number of loans in first week', 'deactivated auto lending', 'subjectivity score', 'avg comment length', 'polarity score', 'gift card giver', 'received comments in first week', 'inviter'\n",
    "- Other predictive features are certain words, most regarding borrowers being thankful for lenders contributions. Grouping words into topics could potentially yield individually more predictive features.\n",
    "- Certain comments characteristics are likely to have a higher retention rate. We expect retention rate to go up if all comments are in line with the \"best\" characteristics.\n",
    "- A lender is 10% more likely to retain if he gets a comment within the week of his first loan."
   ]
  },
  {
   "cell_type": "markdown",
   "metadata": {},
   "source": [
    "## Importing all packages that are needed"
   ]
  },
  {
   "cell_type": "code",
   "execution_count": 1,
   "metadata": {
    "collapsed": false
   },
   "outputs": [],
   "source": [
    "import datetime\n",
    "import mysql.connector\n",
    "import numpy as np\n",
    "from collections import Counter\n",
    "import pandas as pd\n",
    "%matplotlib inline\n",
    "import matplotlib.patches as mpatches\n",
    "import matplotlib.pyplot as plt\n",
    "from sklearn.linear_model import LogisticRegression\n",
    "from sklearn.linear_model import Lasso\n",
    "from sklearn.cross_validation import train_test_split\n",
    "from sklearn import metrics\n",
    "from sklearn.cross_validation import cross_val_score\n",
    "from sklearn.ensemble import RandomForestClassifier\n",
    "from sklearn.preprocessing import OneHotEncoder\n",
    "from textblob import TextBlob\n",
    "import nltk\n",
    "import re\n",
    "from nltk.corpus import stopwords\n",
    "from sklearn.feature_extraction.text import CountVectorizer\n",
    "from ggplot import *\n",
    "import seaborn as sns\n",
    "import time\n",
    "import json\n",
    "from pprint import pprint"
   ]
  },
  {
   "cell_type": "markdown",
   "metadata": {},
   "source": [
    "## Define some useful functions"
   ]
  },
  {
   "cell_type": "code",
   "execution_count": 2,
   "metadata": {
    "collapsed": true
   },
   "outputs": [],
   "source": [
    "def get_subjectivity(text):\n",
    "    ''' Function that calculates a subjectivity score of a text'''\n",
    "    return TextBlob(text).sentiment[1]"
   ]
  },
  {
   "cell_type": "code",
   "execution_count": 3,
   "metadata": {
    "collapsed": true
   },
   "outputs": [],
   "source": [
    "def get_polarity(text):\n",
    "    ''' Function that calculates a polarity score of a text'''\n",
    "    return TextBlob(text).sentiment[0]"
   ]
  },
  {
   "cell_type": "code",
   "execution_count": 4,
   "metadata": {
    "collapsed": true
   },
   "outputs": [],
   "source": [
    "def review_to_words( raw_review ):\n",
    "    ''' Function to convert a raw review to a string of words\n",
    "    The input is a single string (a raw movie review), and \n",
    "    he output is a single string (a preprocessed movie review) '''\n",
    "    \n",
    "    # 1. Remove non-letters        \n",
    "    letters_only = re.sub(\"[^a-zA-Z]\", \" \", raw_review) \n",
    "    \n",
    "    # 2. Convert to lower case, split into individual words\n",
    "    words = letters_only.lower().split()                             \n",
    "    \n",
    "    # 3. In Python, searching a set is much faster than searching\n",
    "    #   a list, so convert the stop words to a set\n",
    "    stops = set(stopwords.words(\"english\"))                  \n",
    "     \n",
    "    # 4. Remove stop words\n",
    "    meaningful_words = [w for w in words if not w in stops]   \n",
    "    \n",
    "    # 5. Join the words back into one string separated by space, \n",
    "    # and return the result.\n",
    "    return( \" \".join( meaningful_words )) "
   ]
  },
  {
   "cell_type": "markdown",
   "metadata": {},
   "source": [
    "## Create panda data frames from SQL queries"
   ]
  },
  {
   "cell_type": "code",
   "execution_count": 5,
   "metadata": {
    "collapsed": false
   },
   "outputs": [],
   "source": [
    "with open('auth.json') as data_file:    \n",
    "    auth_info = json.load(data_file)"
   ]
  },
  {
   "cell_type": "code",
   "execution_count": 6,
   "metadata": {
    "collapsed": true
   },
   "outputs": [],
   "source": [
    "cnx = mysql.connector.connect(user=auth_info['username'], password=auth_info['password'],\n",
    "                              host=auth_info['ip'],\n",
    "                              database=auth_info['db'])"
   ]
  },
  {
   "cell_type": "code",
   "execution_count": 7,
   "metadata": {
    "collapsed": false
   },
   "outputs": [],
   "source": [
    "cur_lenders = cnx.cursor(buffered=True)\n",
    "lenders_query = (\"SELECT id,country_id,created_at FROM lenders\")\n",
    "cur_lenders.execute(lenders_query)\n",
    "lenders_data = cur_lenders.fetchall()\n",
    "column_names_lenders = ['id', 'country_id', 'created_at']\n",
    "lenders_df = pd.DataFrame(lenders_data, columns=column_names_lenders)"
   ]
  },
  {
   "cell_type": "code",
   "execution_count": 8,
   "metadata": {
    "collapsed": false
   },
   "outputs": [],
   "source": [
    "cur_transactions = cnx.cursor(buffered=True)\n",
    "transactions_query = (\"SELECT id,user_id,amount,loan_id,transaction_date FROM transactions WHERE type = 1\")\n",
    "cur_transactions.execute(transactions_query)\n",
    "transactions_data = cur_transactions.fetchall()\n",
    "column_names_transactions = ['id','user_id','amount','loan_id','transaction_date']\n",
    "transactions_df = pd.DataFrame(transactions_data, columns=column_names_transactions)"
   ]
  },
  {
   "cell_type": "code",
   "execution_count": 9,
   "metadata": {
    "collapsed": false
   },
   "outputs": [],
   "source": [
    "cur_countries = cnx.cursor(buffered=True)\n",
    "countries_query = (\"SELECT id,name,country_code FROM countries\")\n",
    "cur_countries.execute(countries_query)\n",
    "countries_data = cur_countries.fetchall()\n",
    "column_names_countries = ['id','name','country_code']\n",
    "countries_df = pd.DataFrame(countries_data, columns=column_names_countries)"
   ]
  },
  {
   "cell_type": "code",
   "execution_count": 10,
   "metadata": {
    "collapsed": false
   },
   "outputs": [],
   "source": [
    "cur_invites = cnx.cursor(buffered=True)\n",
    "invites_query = (\"SELECT id,lender_id,invitee_id,created_at,updated_at FROM lender_invites\")\n",
    "cur_invites.execute(invites_query)\n",
    "invites_data = cur_invites.fetchall()\n",
    "column_names_invites = ['id','lender_id','invitee_id','created_at','updated_at']\n",
    "invites_df = pd.DataFrame(invites_data, columns=column_names_invites)"
   ]
  },
  {
   "cell_type": "code",
   "execution_count": 11,
   "metadata": {
    "collapsed": false
   },
   "outputs": [],
   "source": [
    "cur_giftcard = cnx.cursor(buffered=True)\n",
    "giftcard_query = (\"SELECT id,lender_id,recipient_id,date FROM gift_cards\")\n",
    "cur_giftcard.execute(giftcard_query)\n",
    "giftcard_data = cur_giftcard.fetchall()\n",
    "column_names_giftcards = ['id','lender_id','recipient_id','date']\n",
    "giftcards_df = pd.DataFrame(giftcard_data, columns=column_names_giftcards)"
   ]
  },
  {
   "cell_type": "code",
   "execution_count": 12,
   "metadata": {
    "collapsed": false
   },
   "outputs": [],
   "source": [
    "cur_auto_lending = cnx.cursor(buffered=True)\n",
    "auto_lending_query = (\"SELECT id,lender_id,active FROM auto_lending_settings\")\n",
    "cur_auto_lending.execute(auto_lending_query)\n",
    "auto_lending_data = cur_auto_lending.fetchall()\n",
    "column_names_auto_lending = ['id','lender_id','active']\n",
    "auto_lending_df = pd.DataFrame(auto_lending_data, columns=column_names_auto_lending)"
   ]
  },
  {
   "cell_type": "code",
   "execution_count": 13,
   "metadata": {
    "collapsed": false
   },
   "outputs": [],
   "source": [
    "cur_loan_bids = cnx.cursor(buffered=True)\n",
    "loan_bids_query = (\"SELECT id,loan_id,lender_id,borrower_id,bid_amount,accepted_amount,bid_at FROM loan_bids\")\n",
    "cur_loan_bids.execute(loan_bids_query)\n",
    "loan_bids_data = cur_loan_bids.fetchall()\n",
    "column_names_loan_bids = ['id','loan_id','lender_id','borrower_id','bid_amount','accepted_amount','bid_at']\n",
    "loan_bids_df = pd.DataFrame(loan_bids_data, columns=column_names_loan_bids)"
   ]
  },
  {
   "cell_type": "code",
   "execution_count": 14,
   "metadata": {
    "collapsed": false
   },
   "outputs": [],
   "source": [
    "cur_borrower_comments = cnx.cursor(buffered=True)\n",
    "borrower_comments_query = (\"SELECT borrower_id,id,user_id,message FROM borrower_comments\")\n",
    "cur_borrower_comments.execute(borrower_comments_query)\n",
    "borrower_comments_data = cur_borrower_comments.fetchall()\n",
    "column_names_borrower_comments = ['borrower_id','id','user_id','message']\n",
    "borrower_comments_df = pd.DataFrame(borrower_comments_data, columns=column_names_borrower_comments)"
   ]
  },
  {
   "cell_type": "code",
   "execution_count": 15,
   "metadata": {
    "collapsed": false
   },
   "outputs": [],
   "source": [
    "cur_installments = cnx.cursor(buffered=True)\n",
    "installments_query = (\"SELECT id,borrower_id,loan_id,due_date,amount,paid_date,paid_amount,amount_usd,paid_amount_usd FROM installments\")\n",
    "cur_installments.execute(installments_query)\n",
    "installments_data = cur_installments.fetchall()\n",
    "column_names_installments = ['id','borrower_id','loan_id','due_date','amount','paid_date','paid_amount','amount_usd','paid_amount_usd']\n",
    "installments_df = pd.DataFrame(installments_data, columns=column_names_installments)"
   ]
  },
  {
   "cell_type": "markdown",
   "metadata": {},
   "source": [
    "## Set up a bunch of useful maps"
   ]
  },
  {
   "cell_type": "code",
   "execution_count": 16,
   "metadata": {
    "collapsed": false
   },
   "outputs": [],
   "source": [
    "map_countryid_country = {}\n",
    "for i in range(0,len(countries_df)):\n",
    "    map_countryid_country[countries_df.id[i]] = countries_df.name[i]"
   ]
  },
  {
   "cell_type": "code",
   "execution_count": 17,
   "metadata": {
    "collapsed": false
   },
   "outputs": [],
   "source": [
    "map_countryid_numlenders = {}\n",
    "for i in range(0,len(countries_df)):\n",
    "    map_countryid_numlenders[countries_df.id[i]] = 0\n",
    "for i in range(0,len(lenders_df.country_id)):\n",
    "    map_countryid_numlenders[lenders_df.country_id[i]] += 1 "
   ]
  },
  {
   "cell_type": "code",
   "execution_count": 18,
   "metadata": {
    "collapsed": true
   },
   "outputs": [],
   "source": [
    "map_country_numlenders = {}\n",
    "for i in range(0,len(countries_df)):\n",
    "    map_country_numlenders[countries_df.name[i]] = 0\n",
    "for i in range(0,len(lenders_df.country_id)):\n",
    "    map_country_numlenders[map_countryid_country[lenders_df.country_id[i]]] += 1 "
   ]
  },
  {
   "cell_type": "code",
   "execution_count": 19,
   "metadata": {
    "collapsed": false
   },
   "outputs": [],
   "source": [
    "map_countryid_countrycode = {}\n",
    "for i in range(0,len(countries_df)):\n",
    "    map_countryid_countrycode[countries_df.id[i]] = countries_df.country_code[i]"
   ]
  },
  {
   "cell_type": "code",
   "execution_count": 20,
   "metadata": {
    "collapsed": true
   },
   "outputs": [],
   "source": [
    "map_countrycode_numlenders = {}\n",
    "for i in range(0,len(countries_df)):\n",
    "    map_countrycode_numlenders[countries_df.country_code[i]] = 0\n",
    "for i in range(0,len(lenders_df.country_id)):\n",
    "    map_countrycode_numlenders[map_countryid_countrycode[lenders_df.country_id[i]]] += 1 "
   ]
  },
  {
   "cell_type": "code",
   "execution_count": 21,
   "metadata": {
    "collapsed": true
   },
   "outputs": [],
   "source": [
    "map_id_rownumber = {}\n",
    "for i in range(0,len(lenders_df)):\n",
    "    map_id_rownumber[lenders_df.id[i]] = i"
   ]
  },
  {
   "cell_type": "code",
   "execution_count": 22,
   "metadata": {
    "collapsed": true
   },
   "outputs": [],
   "source": [
    "map_id_firstupload = {}\n",
    "for i in range(0,len(transactions_df)):\n",
    "    try:\n",
    "        usr_id = transactions_df.loc[i,'user_id']\n",
    "        map_id_firstupload[usr_id] = min(map_id_firstupload[usr_id],transactions_df.loc[i,'transaction_date'])\n",
    "    except KeyError:\n",
    "        map_id_firstupload[usr_id] = transactions_df.loc[i,'transaction_date']"
   ]
  },
  {
   "cell_type": "markdown",
   "metadata": {},
   "source": [
    "## Label users as retained or not retained"
   ]
  },
  {
   "cell_type": "code",
   "execution_count": 23,
   "metadata": {
    "collapsed": true
   },
   "outputs": [],
   "source": [
    "userid_numtrans_dict = {}\n",
    "userid_datestrans_dict = {}\n",
    "for i in range(0,len(transactions_df)):\n",
    "    try:\n",
    "        userid_datestrans_dict[transactions_df.user_id[i]].append(transactions_df.transaction_date[i])\n",
    "        userid_numtrans_dict[transactions_df.user_id[i]] += 1\n",
    "    except KeyError:\n",
    "        userid_datestrans_dict[transactions_df.user_id[i]] = [transactions_df.transaction_date[i]]\n",
    "        userid_numtrans_dict[transactions_df.user_id[i]] = 1"
   ]
  },
  {
   "cell_type": "code",
   "execution_count": 24,
   "metadata": {
    "collapsed": true
   },
   "outputs": [],
   "source": [
    "lenders_df['num_upload_transactions'] = 0\n",
    "for i in range(0,len(lenders_df)):\n",
    "    try:\n",
    "        lenders_df.loc[i,('num_upload_transactions')] = userid_numtrans_dict[lenders_df.id[i]]\n",
    "    except KeyError:\n",
    "        lenders_df.loc[i,('num_upload_transactions')] = 0"
   ]
  },
  {
   "cell_type": "code",
   "execution_count": 25,
   "metadata": {
    "collapsed": true
   },
   "outputs": [],
   "source": [
    "lenders_df['retained'] = (lenders_df['num_upload_transactions'] > 1) + 0\n",
    "lenders_df['never_uploaded'] = (lenders_df['num_upload_transactions'] == 0) + 0"
   ]
  },
  {
   "cell_type": "code",
   "execution_count": 26,
   "metadata": {
    "collapsed": true
   },
   "outputs": [],
   "source": [
    "retained_df = lenders_df[lenders_df.retained==1]\n",
    "uploaded_df = lenders_df[lenders_df.never_uploaded==0]"
   ]
  },
  {
   "cell_type": "markdown",
   "metadata": {},
   "source": [
    "## Feature type 1: Is invited/not invited predictive of lender retention\n",
    "### Feature: invited"
   ]
  },
  {
   "cell_type": "code",
   "execution_count": 27,
   "metadata": {
    "collapsed": true
   },
   "outputs": [],
   "source": [
    "idx = invites_df['invitee_id'].dropna()"
   ]
  },
  {
   "cell_type": "code",
   "execution_count": 28,
   "metadata": {
    "collapsed": true
   },
   "outputs": [],
   "source": [
    "lenders_df['invited'] = 0\n",
    "for val in idx:\n",
    "    lenders_df.loc[map_id_rownumber[val],('invited')] = 1"
   ]
  },
  {
   "cell_type": "markdown",
   "metadata": {},
   "source": [
    "## Feature type 2: Is inviter/not inviter predictive of lender retention\n",
    "### Feature: inviter"
   ]
  },
  {
   "cell_type": "code",
   "execution_count": 29,
   "metadata": {
    "collapsed": true
   },
   "outputs": [],
   "source": [
    "idx2 = invites_df['lender_id'].dropna()"
   ]
  },
  {
   "cell_type": "code",
   "execution_count": 30,
   "metadata": {
    "collapsed": true
   },
   "outputs": [],
   "source": [
    "lenders_df['inviter'] = 0\n",
    "for val in idx2:\n",
    "    lenders_df.loc[map_id_rownumber[val],('inviter')] = 1"
   ]
  },
  {
   "cell_type": "markdown",
   "metadata": {},
   "source": [
    "## Feature type 3: Is joining through gift card predictive of lender retention\n",
    "### Feature: gift_card"
   ]
  },
  {
   "cell_type": "code",
   "execution_count": 31,
   "metadata": {
    "collapsed": true
   },
   "outputs": [],
   "source": [
    "idx = giftcards_df.recipient_id.dropna()"
   ]
  },
  {
   "cell_type": "code",
   "execution_count": 32,
   "metadata": {
    "collapsed": true
   },
   "outputs": [],
   "source": [
    "recipient_df = giftcards_df[giftcards_df.recipient_id.notnull()]"
   ]
  },
  {
   "cell_type": "code",
   "execution_count": 33,
   "metadata": {
    "collapsed": true
   },
   "outputs": [],
   "source": [
    "recipient_df = giftcards_df[giftcards_df.recipient_id.notnull()]\n",
    "recipient_df = recipient_df.loc[:,['date','recipient_id']]\n",
    "recipient_df['lender_id'] = recipient_df['recipient_id']\n",
    "recipient_df = recipient_df.drop('recipient_id',1)\n",
    "temp_lenders_df = lenders_df.loc[:,['id','created_at']]\n",
    "temp_lenders_df['lender_id'] = temp_lenders_df['id']\n",
    "temp_lenders_df = temp_lenders_df.drop('id',1)\n",
    "dates_df = pd.merge(recipient_df,temp_lenders_df.loc[:,['lender_id','created_at']],on='lender_id')\n",
    "dates_df['date_diff'] = dates_df.created_at - dates_df.date"
   ]
  },
  {
   "cell_type": "code",
   "execution_count": 34,
   "metadata": {
    "collapsed": true
   },
   "outputs": [],
   "source": [
    "#(dates_df[(dates_df['date_diff'] < pd.Timedelta('365 days'))])\n",
    "shorter_dates_df = (dates_df[(dates_df['date_diff'] < pd.Timedelta('365 days')) & (dates_df['date_diff'] > pd.Timedelta('-7 days'))])\n",
    "shorter_dates_df = (shorter_dates_df[shorter_dates_df.created_at != '2014-10-04 06:32:30'])\n",
    "shorter_dates_df = (shorter_dates_df[shorter_dates_df.created_at != '2014-10-04 06:32:31'])\n",
    "shorter_dates_df = (shorter_dates_df[shorter_dates_df.created_at != '2014-10-04 06:32:32'])\n",
    "shorter_dates_df = (shorter_dates_df[shorter_dates_df.created_at != '2014-10-04 06:32:33'])\n",
    "idx3 = shorter_dates_df.lender_id"
   ]
  },
  {
   "cell_type": "code",
   "execution_count": 35,
   "metadata": {
    "collapsed": true
   },
   "outputs": [],
   "source": [
    "lenders_df['gift_card'] = 0\n",
    "for val in idx3:\n",
    "    lenders_df.loc[map_id_rownumber[val],('gift_card')] = 1\n"
   ]
  },
  {
   "cell_type": "markdown",
   "metadata": {},
   "source": [
    "## Feature type 4: Is gift card giving predictive of lender retention\n",
    "### Feature: gift_card_giver"
   ]
  },
  {
   "cell_type": "code",
   "execution_count": 36,
   "metadata": {
    "collapsed": true
   },
   "outputs": [],
   "source": [
    "idx2 = giftcards_df.lender_id.dropna()"
   ]
  },
  {
   "cell_type": "code",
   "execution_count": 37,
   "metadata": {
    "collapsed": true
   },
   "outputs": [],
   "source": [
    "lenders_df['gift_card_giver'] = 0\n",
    "for val in idx2:\n",
    "    lenders_df.loc[map_id_rownumber[val],('gift_card_giver')] = 1"
   ]
  },
  {
   "cell_type": "markdown",
   "metadata": {},
   "source": [
    "## Feature type 5: Is disabling of auto lending predictive of lender retention\n",
    "### Features: active_auto_lending, nonactive_auto_lending"
   ]
  },
  {
   "cell_type": "code",
   "execution_count": 38,
   "metadata": {
    "collapsed": true
   },
   "outputs": [],
   "source": [
    "active_auto_lending_id = auto_lending_df[auto_lending_df.active == 1].lender_id\n",
    "nonactive_auto_lending_id = auto_lending_df[auto_lending_df.active == 0].lender_id"
   ]
  },
  {
   "cell_type": "code",
   "execution_count": 39,
   "metadata": {
    "collapsed": true
   },
   "outputs": [],
   "source": [
    "lenders_df['active_auto_lending'] = 0\n",
    "lenders_df['nonactive_auto_lending'] = 0\n",
    "for val in active_auto_lending_id:\n",
    "    lenders_df.loc[map_id_rownumber[val],('active_auto_lending')] = 1\n",
    "for val in nonactive_auto_lending_id:\n",
    "    lenders_df.loc[map_id_rownumber[val],('nonactive_auto_lending')] = 1"
   ]
  },
  {
   "cell_type": "markdown",
   "metadata": {},
   "source": [
    "## Feature type 6: Does number of loans in first month (or in first week) predict lender retention\n",
    "### Features: loans_in_first_week, usd_in_first_week"
   ]
  },
  {
   "cell_type": "code",
   "execution_count": 40,
   "metadata": {
    "collapsed": true
   },
   "outputs": [],
   "source": [
    "firstupload_df = pd.DataFrame(map_id_firstupload.items(), columns=['lender_id', 'first_transaction_date'])"
   ]
  },
  {
   "cell_type": "code",
   "execution_count": 41,
   "metadata": {
    "collapsed": true
   },
   "outputs": [],
   "source": [
    "### Takes a while to run\n",
    "lenders_df['number_of_loans'] = 0\n",
    "\n",
    "for row in range(0,len(loan_bids_df)):\n",
    "    lender_id = loan_bids_df.lender_id[row]\n",
    "    lenders_df.loc[map_id_rownumber[lender_id],('number_of_loans')] += 1\n",
    "    "
   ]
  },
  {
   "cell_type": "code",
   "execution_count": 42,
   "metadata": {
    "collapsed": true
   },
   "outputs": [],
   "source": [
    "lenders_df_temp = lenders_df.loc[:,('id','created_at')]\n",
    "lenders_df_temp['lender_id'] = lenders_df_temp['id']\n",
    "lenders_df_temp = lenders_df_temp.drop('id',1)"
   ]
  },
  {
   "cell_type": "code",
   "execution_count": 43,
   "metadata": {
    "collapsed": true
   },
   "outputs": [],
   "source": [
    "loan_bids_df_temp = loan_bids_df.loc[loan_bids_df.accepted_amount != 0,('lender_id','accepted_amount','bid_at')]"
   ]
  },
  {
   "cell_type": "code",
   "execution_count": 44,
   "metadata": {
    "collapsed": true
   },
   "outputs": [],
   "source": [
    "lend_loan_df = pd.merge(loan_bids_df_temp,firstupload_df,on='lender_id')"
   ]
  },
  {
   "cell_type": "code",
   "execution_count": 45,
   "metadata": {
    "collapsed": true
   },
   "outputs": [],
   "source": [
    "lend_loan_df['time_diff'] = lend_loan_df.bid_at - lend_loan_df.first_transaction_date"
   ]
  },
  {
   "cell_type": "code",
   "execution_count": 46,
   "metadata": {
    "collapsed": true
   },
   "outputs": [],
   "source": [
    "lend_loan_week_df = lend_loan_df[(lend_loan_df['time_diff'] > pd.Timedelta('0 days')) & (lend_loan_df['time_diff'] < pd.Timedelta('7 days'))]\n",
    "lend_loan_month_df = lend_loan_df[(lend_loan_df['time_diff'] > pd.Timedelta('0 days')) & (lend_loan_df['time_diff'] < pd.Timedelta('31 days'))]"
   ]
  },
  {
   "cell_type": "code",
   "execution_count": 47,
   "metadata": {
    "collapsed": true
   },
   "outputs": [],
   "source": [
    "lenders_df['loans_in_first_week'] = 0\n",
    "lenders_df['usd_in_first_week'] = 0\n",
    "\n",
    "for row in lend_loan_week_df.index:\n",
    "    lender_id = lend_loan_week_df.lender_id[row]\n",
    "    lenders_df.loc[map_id_rownumber[lender_id],('loans_in_first_week')] += 1\n",
    "    lenders_df.loc[map_id_rownumber[lender_id],('usd_in_first_week')] += lend_loan_week_df.accepted_amount[row]\n"
   ]
  },
  {
   "cell_type": "code",
   "execution_count": 48,
   "metadata": {
    "collapsed": true
   },
   "outputs": [],
   "source": [
    "lenders_df = lenders_df.drop('number_of_loans',1)"
   ]
  },
  {
   "cell_type": "markdown",
   "metadata": {},
   "source": [
    "## Feature type 7: Does comments after loan predict lender retention, and which comments matter\n",
    "### Features: comments_within_week,polarity_score, subjectivity_score,avg_comment_length"
   ]
  },
  {
   "cell_type": "code",
   "execution_count": 50,
   "metadata": {
    "collapsed": false
   },
   "outputs": [],
   "source": [
    "borrower_comments_df['polarity'] = borrower_comments_df.message.apply(get_polarity)"
   ]
  },
  {
   "cell_type": "code",
   "execution_count": 51,
   "metadata": {
    "collapsed": true
   },
   "outputs": [],
   "source": [
    "borrower_comments_df['subjectivity'] = borrower_comments_df.message.apply(get_subjectivity)"
   ]
  },
  {
   "cell_type": "code",
   "execution_count": 52,
   "metadata": {
    "collapsed": false
   },
   "outputs": [],
   "source": [
    "borrower_comments_df['comment_length'] = borrower_comments_df.loc[:,'message'].apply(nltk.word_tokenize).apply(len)"
   ]
  },
  {
   "cell_type": "code",
   "execution_count": 53,
   "metadata": {
    "collapsed": true
   },
   "outputs": [],
   "source": [
    "#Takes a minute to compute, but faster than for example loading in everything and doing the \"Where\" with python\n",
    "cur_loan_comment = cnx.cursor(buffered=True)\n",
    "loan_comment_query = (\"select loan_bids.lender_id,loan_bids.borrower_id,loan_bids.bid_at,borrower_comments.created_at,borrower_comments.id from loan_bids INNER JOIN borrower_comments ON loan_bids.borrower_id=borrower_comments.borrower_id where loan_bids.bid_at < borrower_comments.created_at AND DATEDIFF(borrower_comments.created_at,loan_bids.bid_at) < 7;\")\n",
    "cur_loan_comment.execute(loan_comment_query)\n",
    "loan_comment_data = cur_loan_comment.fetchall()\n",
    "column_names_loan_comment = ['lender_id','borrower_id','bid_at','created_at','id']\n",
    "loan_comment_df = pd.DataFrame(loan_comment_data, columns=column_names_loan_comment)"
   ]
  },
  {
   "cell_type": "code",
   "execution_count": 54,
   "metadata": {
    "collapsed": false
   },
   "outputs": [],
   "source": [
    "loans_comment_within_week = loan_comment_df"
   ]
  },
  {
   "cell_type": "code",
   "execution_count": 55,
   "metadata": {
    "collapsed": true
   },
   "outputs": [],
   "source": [
    "firstupload_df = pd.DataFrame(map_id_firstupload.items(), columns=['lender_id', 'first_transaction_date'])"
   ]
  },
  {
   "cell_type": "code",
   "execution_count": 56,
   "metadata": {
    "collapsed": true
   },
   "outputs": [],
   "source": [
    "loans_comment_within_week = pd.merge(loans_comment_within_week,firstupload_df,on='lender_id')"
   ]
  },
  {
   "cell_type": "code",
   "execution_count": 57,
   "metadata": {
    "collapsed": true
   },
   "outputs": [],
   "source": [
    "loans_comment_within_week['upload_prior_loan'] = (loans_comment_within_week['first_transaction_date'] < loans_comment_within_week['bid_at'])+0"
   ]
  },
  {
   "cell_type": "code",
   "execution_count": 58,
   "metadata": {
    "collapsed": true
   },
   "outputs": [],
   "source": [
    "loans_comment_within_week.loc[:,'loan_within_week'] = (loans_comment_within_week.bid_at - loans_comment_within_week.first_transaction_date < pd.Timedelta('7 days'))+0"
   ]
  },
  {
   "cell_type": "code",
   "execution_count": 59,
   "metadata": {
    "collapsed": true
   },
   "outputs": [],
   "source": [
    "loans_comment_within_week = pd.merge(loans_comment_within_week,borrower_comments_df.loc[:,('id','polarity','subjectivity','comment_length')],on='id')"
   ]
  },
  {
   "cell_type": "code",
   "execution_count": 60,
   "metadata": {
    "collapsed": true
   },
   "outputs": [],
   "source": [
    "lenders_loan_comment_within_week = loans_comment_within_week.loc[loans_comment_within_week['loan_within_week'] == 1,('lender_id')]\n",
    "polarity_lenders_loan_comment_within_week = loans_comment_within_week.loc[(loans_comment_within_week['loan_within_week'] == 1) ,('lender_id','polarity')]\n",
    "subjectivity_lenders_loan_comment_within_week = loans_comment_within_week.loc[(loans_comment_within_week['loan_within_week'] == 1) ,('lender_id','subjectivity')]\n",
    "comment_length_lenders_loan_comment_within_week = loans_comment_within_week.loc[(loans_comment_within_week['loan_within_week'] == 1) ,('lender_id','comment_length')]"
   ]
  },
  {
   "cell_type": "code",
   "execution_count": 61,
   "metadata": {
    "collapsed": true
   },
   "outputs": [],
   "source": [
    "unique_within_week = lenders_loan_comment_within_week.unique()"
   ]
  },
  {
   "cell_type": "code",
   "execution_count": 62,
   "metadata": {
    "collapsed": false
   },
   "outputs": [],
   "source": [
    "lenders_df['comments_within_week'] = 0\n",
    "for i in lenders_loan_comment_within_week.index:\n",
    "    row_i = map_id_rownumber[lenders_loan_comment_within_week[i]]\n",
    "    lenders_df.loc[row_i,('comments_within_week')] += 1"
   ]
  },
  {
   "cell_type": "code",
   "execution_count": 63,
   "metadata": {
    "collapsed": true
   },
   "outputs": [],
   "source": [
    "lenders_df['polarity_within_week'] = 0\n",
    "for i in polarity_lenders_loan_comment_within_week.index:\n",
    "    row_i = map_id_rownumber[polarity_lenders_loan_comment_within_week.loc[i,'lender_id']]\n",
    "    lenders_df.loc[row_i,('polarity_within_week')] += polarity_lenders_loan_comment_within_week.loc[i,'polarity']"
   ]
  },
  {
   "cell_type": "code",
   "execution_count": 64,
   "metadata": {
    "collapsed": true
   },
   "outputs": [],
   "source": [
    "lenders_df['subjectivity_within_week'] = 0\n",
    "for i in subjectivity_lenders_loan_comment_within_week.index:\n",
    "    row_i = map_id_rownumber[subjectivity_lenders_loan_comment_within_week.loc[i,'lender_id']]\n",
    "    lenders_df.loc[row_i,('subjectivity_within_week')] += subjectivity_lenders_loan_comment_within_week.loc[i,'subjectivity']"
   ]
  },
  {
   "cell_type": "code",
   "execution_count": 65,
   "metadata": {
    "collapsed": true
   },
   "outputs": [],
   "source": [
    "lenders_df['comment_length_within_week'] = 0\n",
    "for i in comment_length_lenders_loan_comment_within_week.index:\n",
    "    row_i = map_id_rownumber[comment_length_lenders_loan_comment_within_week.loc[i,'lender_id']]\n",
    "    lenders_df.loc[row_i,('comment_length_within_week')] += comment_length_lenders_loan_comment_within_week.loc[i,'comment_length']"
   ]
  },
  {
   "cell_type": "code",
   "execution_count": 66,
   "metadata": {
    "collapsed": false
   },
   "outputs": [],
   "source": [
    "lenders_df['polarity_score'] = lenders_df['polarity_within_week'] / lenders_df['comments_within_week']\n",
    "lenders_df['subjectivity_score'] = lenders_df['subjectivity_within_week'] / lenders_df['comments_within_week']\n",
    "lenders_df['avg_comment_length'] = lenders_df['comment_length_within_week'] / lenders_df['comments_within_week']"
   ]
  },
  {
   "cell_type": "code",
   "execution_count": 67,
   "metadata": {
    "collapsed": false
   },
   "outputs": [],
   "source": [
    "lenders_df = lenders_df.drop('polarity_within_week',1)\n",
    "lenders_df = lenders_df.drop('subjectivity_within_week',1)"
   ]
  },
  {
   "cell_type": "markdown",
   "metadata": {},
   "source": [
    "## Feature type 8: Bag of words features\n",
    "### Features: 1000 most frequent words"
   ]
  },
  {
   "cell_type": "code",
   "execution_count": 68,
   "metadata": {
    "collapsed": true
   },
   "outputs": [],
   "source": [
    "vectorizer = CountVectorizer(analyzer = \"word\",   \\\n",
    "                             tokenizer = None,    \\\n",
    "                             preprocessor = None, \\\n",
    "                             stop_words = None,   \\\n",
    "                             max_features = 1000) "
   ]
  },
  {
   "cell_type": "code",
   "execution_count": 69,
   "metadata": {
    "collapsed": true
   },
   "outputs": [],
   "source": [
    "borrower_comments_df.loc[:,'clean_message'] = borrower_comments_df.loc[:,'message'].apply(review_to_words)"
   ]
  },
  {
   "cell_type": "code",
   "execution_count": 70,
   "metadata": {
    "collapsed": true
   },
   "outputs": [],
   "source": [
    "top_words = vectorizer.fit_transform(borrower_comments_df.loc[:,'clean_message'].tolist())"
   ]
  },
  {
   "cell_type": "code",
   "execution_count": 71,
   "metadata": {
    "collapsed": true
   },
   "outputs": [],
   "source": [
    "top_words = top_words.toarray()"
   ]
  },
  {
   "cell_type": "code",
   "execution_count": 72,
   "metadata": {
    "collapsed": false
   },
   "outputs": [],
   "source": [
    "top_words_df = pd.DataFrame(top_words,columns=vectorizer.get_feature_names())"
   ]
  },
  {
   "cell_type": "code",
   "execution_count": 73,
   "metadata": {
    "collapsed": false
   },
   "outputs": [
    {
     "data": {
      "text/html": [
       "<div>\n",
       "<table border=\"1\" class=\"dataframe\">\n",
       "  <thead>\n",
       "    <tr style=\"text-align: right;\">\n",
       "      <th></th>\n",
       "      <th>able</th>\n",
       "      <th>abundantly</th>\n",
       "      <th>accept</th>\n",
       "      <th>access</th>\n",
       "      <th>account</th>\n",
       "      <th>acheter</th>\n",
       "      <th>achieve</th>\n",
       "      <th>activit</th>\n",
       "      <th>actually</th>\n",
       "      <th>ada</th>\n",
       "      <th>...</th>\n",
       "      <th>wrong</th>\n",
       "      <th>www</th>\n",
       "      <th>yang</th>\n",
       "      <th>year</th>\n",
       "      <th>years</th>\n",
       "      <th>yes</th>\n",
       "      <th>yesterday</th>\n",
       "      <th>yet</th>\n",
       "      <th>young</th>\n",
       "      <th>zidisha</th>\n",
       "    </tr>\n",
       "  </thead>\n",
       "  <tbody>\n",
       "    <tr>\n",
       "      <th>0</th>\n",
       "      <td>0</td>\n",
       "      <td>0</td>\n",
       "      <td>0</td>\n",
       "      <td>2</td>\n",
       "      <td>0</td>\n",
       "      <td>0</td>\n",
       "      <td>0</td>\n",
       "      <td>0</td>\n",
       "      <td>0</td>\n",
       "      <td>0</td>\n",
       "      <td>...</td>\n",
       "      <td>0</td>\n",
       "      <td>0</td>\n",
       "      <td>0</td>\n",
       "      <td>0</td>\n",
       "      <td>2</td>\n",
       "      <td>0</td>\n",
       "      <td>0</td>\n",
       "      <td>0</td>\n",
       "      <td>0</td>\n",
       "      <td>3</td>\n",
       "    </tr>\n",
       "    <tr>\n",
       "      <th>1</th>\n",
       "      <td>0</td>\n",
       "      <td>0</td>\n",
       "      <td>0</td>\n",
       "      <td>2</td>\n",
       "      <td>0</td>\n",
       "      <td>0</td>\n",
       "      <td>0</td>\n",
       "      <td>0</td>\n",
       "      <td>0</td>\n",
       "      <td>0</td>\n",
       "      <td>...</td>\n",
       "      <td>0</td>\n",
       "      <td>0</td>\n",
       "      <td>0</td>\n",
       "      <td>0</td>\n",
       "      <td>2</td>\n",
       "      <td>0</td>\n",
       "      <td>0</td>\n",
       "      <td>0</td>\n",
       "      <td>0</td>\n",
       "      <td>3</td>\n",
       "    </tr>\n",
       "  </tbody>\n",
       "</table>\n",
       "<p>2 rows × 1000 columns</p>\n",
       "</div>"
      ],
      "text/plain": [
       "   able  abundantly  accept  access  account  acheter  achieve  activit  \\\n",
       "0     0           0       0       2        0        0        0        0   \n",
       "1     0           0       0       2        0        0        0        0   \n",
       "\n",
       "   actually  ada   ...     wrong  www  yang  year  years  yes  yesterday  yet  \\\n",
       "0         0    0   ...         0    0     0     0      2    0          0    0   \n",
       "1         0    0   ...         0    0     0     0      2    0          0    0   \n",
       "\n",
       "   young  zidisha  \n",
       "0      0        3  \n",
       "1      0        3  \n",
       "\n",
       "[2 rows x 1000 columns]"
      ]
     },
     "execution_count": 73,
     "metadata": {},
     "output_type": "execute_result"
    }
   ],
   "source": [
    "top_words_df[:2]"
   ]
  },
  {
   "cell_type": "code",
   "execution_count": 74,
   "metadata": {
    "collapsed": false
   },
   "outputs": [],
   "source": [
    "borrower_words_df = pd.concat([borrower_comments_df['id'],top_words_df],axis=1)"
   ]
  },
  {
   "cell_type": "code",
   "execution_count": 75,
   "metadata": {
    "collapsed": false
   },
   "outputs": [],
   "source": [
    "merged_df = pd.merge(loans_comment_within_week,borrower_words_df,on='id')"
   ]
  },
  {
   "cell_type": "code",
   "execution_count": 76,
   "metadata": {
    "collapsed": false
   },
   "outputs": [],
   "source": [
    "lenders_loan_words_within_week = merged_df.loc[merged_df['loan_within_week'] == 1,:]\n"
   ]
  },
  {
   "cell_type": "code",
   "execution_count": 77,
   "metadata": {
    "collapsed": false
   },
   "outputs": [
    {
     "data": {
      "text/html": [
       "<div>\n",
       "<table border=\"1\" class=\"dataframe\">\n",
       "  <thead>\n",
       "    <tr style=\"text-align: right;\">\n",
       "      <th></th>\n",
       "      <th>lender_id</th>\n",
       "      <th>borrower_id</th>\n",
       "      <th>bid_at</th>\n",
       "      <th>created_at</th>\n",
       "      <th>id</th>\n",
       "      <th>first_transaction_date</th>\n",
       "      <th>upload_prior_loan</th>\n",
       "      <th>loan_within_week</th>\n",
       "      <th>polarity</th>\n",
       "      <th>subjectivity</th>\n",
       "      <th>...</th>\n",
       "      <th>wrong</th>\n",
       "      <th>www</th>\n",
       "      <th>yang</th>\n",
       "      <th>year</th>\n",
       "      <th>years</th>\n",
       "      <th>yes</th>\n",
       "      <th>yesterday</th>\n",
       "      <th>yet</th>\n",
       "      <th>young</th>\n",
       "      <th>zidisha</th>\n",
       "    </tr>\n",
       "  </thead>\n",
       "  <tbody>\n",
       "    <tr>\n",
       "      <th>3</th>\n",
       "      <td>182</td>\n",
       "      <td>147</td>\n",
       "      <td>2010-01-28 02:37:53</td>\n",
       "      <td>2010-01-30 05:46:05</td>\n",
       "      <td>25</td>\n",
       "      <td>2010-01-27 06:22:03</td>\n",
       "      <td>1</td>\n",
       "      <td>1</td>\n",
       "      <td>1.0</td>\n",
       "      <td>0.3</td>\n",
       "      <td>...</td>\n",
       "      <td>0</td>\n",
       "      <td>0</td>\n",
       "      <td>0</td>\n",
       "      <td>0</td>\n",
       "      <td>0</td>\n",
       "      <td>0</td>\n",
       "      <td>0</td>\n",
       "      <td>0</td>\n",
       "      <td>0</td>\n",
       "      <td>0</td>\n",
       "    </tr>\n",
       "    <tr>\n",
       "      <th>4</th>\n",
       "      <td>181</td>\n",
       "      <td>147</td>\n",
       "      <td>2010-01-28 21:40:12</td>\n",
       "      <td>2010-01-30 05:46:05</td>\n",
       "      <td>25</td>\n",
       "      <td>2010-01-28 21:32:44</td>\n",
       "      <td>1</td>\n",
       "      <td>1</td>\n",
       "      <td>1.0</td>\n",
       "      <td>0.3</td>\n",
       "      <td>...</td>\n",
       "      <td>0</td>\n",
       "      <td>0</td>\n",
       "      <td>0</td>\n",
       "      <td>0</td>\n",
       "      <td>0</td>\n",
       "      <td>0</td>\n",
       "      <td>0</td>\n",
       "      <td>0</td>\n",
       "      <td>0</td>\n",
       "      <td>0</td>\n",
       "    </tr>\n",
       "  </tbody>\n",
       "</table>\n",
       "<p>2 rows × 1011 columns</p>\n",
       "</div>"
      ],
      "text/plain": [
       "   lender_id  borrower_id              bid_at          created_at  id  \\\n",
       "3        182          147 2010-01-28 02:37:53 2010-01-30 05:46:05  25   \n",
       "4        181          147 2010-01-28 21:40:12 2010-01-30 05:46:05  25   \n",
       "\n",
       "  first_transaction_date  upload_prior_loan  loan_within_week  polarity  \\\n",
       "3    2010-01-27 06:22:03                  1                 1       1.0   \n",
       "4    2010-01-28 21:32:44                  1                 1       1.0   \n",
       "\n",
       "   subjectivity   ...     wrong  www  yang  year  years  yes  yesterday  yet  \\\n",
       "3           0.3   ...         0    0     0     0      0    0          0    0   \n",
       "4           0.3   ...         0    0     0     0      0    0          0    0   \n",
       "\n",
       "   young  zidisha  \n",
       "3      0        0  \n",
       "4      0        0  \n",
       "\n",
       "[2 rows x 1011 columns]"
      ]
     },
     "execution_count": 77,
     "metadata": {},
     "output_type": "execute_result"
    }
   ],
   "source": [
    "lenders_loan_words_within_week[:2]"
   ]
  },
  {
   "cell_type": "code",
   "execution_count": 78,
   "metadata": {
    "collapsed": false
   },
   "outputs": [],
   "source": [
    "grouped_lenders_loan_words_within_week = lenders_loan_words_within_week.groupby('lender_id')"
   ]
  },
  {
   "cell_type": "code",
   "execution_count": 79,
   "metadata": {
    "collapsed": false
   },
   "outputs": [],
   "source": [
    "words_by_lender_id = grouped_lenders_loan_words_within_week.sum()"
   ]
  },
  {
   "cell_type": "code",
   "execution_count": 80,
   "metadata": {
    "collapsed": false
   },
   "outputs": [],
   "source": [
    "words_by_lender_id['lender_id'] = words_by_lender_id.index"
   ]
  },
  {
   "cell_type": "code",
   "execution_count": 81,
   "metadata": {
    "collapsed": false
   },
   "outputs": [],
   "source": [
    "test_df = lenders_df\n",
    "test_df['lender_id'] = test_df['id']\n",
    "test_df = test_df.drop('id',1)"
   ]
  },
  {
   "cell_type": "code",
   "execution_count": 82,
   "metadata": {
    "collapsed": false
   },
   "outputs": [],
   "source": [
    "test_df = pd.merge(test_df,words_by_lender_id,on='lender_id',how='left')"
   ]
  },
  {
   "cell_type": "code",
   "execution_count": 83,
   "metadata": {
    "collapsed": false
   },
   "outputs": [],
   "source": [
    "test_df.loc[:,'invited_orig'] = test_df.invited_x\n",
    "test_df.loc[:,'invited'] = test_df.invited_y\n",
    "test_df = test_df.drop('invited_x',1)\n",
    "test_df = test_df.drop('invited_y',1)"
   ]
  },
  {
   "cell_type": "code",
   "execution_count": 84,
   "metadata": {
    "collapsed": false
   },
   "outputs": [],
   "source": [
    "a = test_df.ix[:,words_by_lender_id.columns.tolist()].fillna(0)\n",
    "test_df.ix[:,words_by_lender_id.columns.tolist()] = a"
   ]
  },
  {
   "cell_type": "code",
   "execution_count": 85,
   "metadata": {
    "collapsed": false
   },
   "outputs": [],
   "source": [
    "lenders_df = test_df"
   ]
  },
  {
   "cell_type": "markdown",
   "metadata": {},
   "source": [
    "## Preparing input for ML Algorithms\n",
    "- X is the dataframe containing all the features\n",
    "- y is the vector we want to predict\n",
    "- Data is split into train (70%) and test (30%) sets"
   ]
  },
  {
   "cell_type": "code",
   "execution_count": 86,
   "metadata": {
    "collapsed": false
   },
   "outputs": [],
   "source": [
    "#X = lenders_df.loc[lenders_df['never_uploaded']==0,('invited','inviter','gift_card','gift_card_giver','active_auto_lending','nonactive_auto_lending','loans_in_first_week','loans_in_first_month','usd_in_first_week','usd_in_first_month','comments_within_week','polarity_score','subjectivity_score','avg_comment_length')]\n",
    "X = lenders_df.loc[(lenders_df['never_uploaded']==0),:]\n",
    "#X = final_test.loc[(final_test['never_uploaded']==0) & (final_test['comments_within_week']!=0) ,:]\n",
    "X = X.drop('retained',1)\n",
    "X = X.drop('never_uploaded',1)\n",
    "X = X.drop('lender_id',1)\n",
    "X = X.drop('borrower_id',1)\n",
    "X = X.drop('id',1)\n",
    "X = X.drop('upload_prior_loan',1)\n",
    "X = X.drop('country_id',1)\n",
    "X = X.drop('created_at',1)\n",
    "X = X.drop('loan_within_week',1)\n",
    "X = X.drop('polarity',1)\n",
    "X = X.drop('subjectivity',1)\n",
    "X = X.drop('comment_length',1)\n",
    "X = X.drop('comment_length_within_week',1)\n",
    "X = X.drop('num_upload_transactions',1)\n",
    "X = X.drop('active_auto_lending',1)\n",
    "#X = X.drop('comments_within_week',1)\n",
    "y = lenders_df.loc[(lenders_df['never_uploaded']==0),'retained']"
   ]
  },
  {
   "cell_type": "code",
   "execution_count": 87,
   "metadata": {
    "collapsed": false
   },
   "outputs": [],
   "source": [
    "## Normalizing/preparing for logistic regression\n",
    "\n",
    "X.invited = X.invited / X.invited.std() \n",
    "X.inviter = X.inviter / X.inviter.std() \n",
    "X.gift_card = X.gift_card / X.gift_card.std() \n",
    "X.gift_card_giver = X.gift_card_giver / X.gift_card_giver.std() \n",
    "#X.active_auto_lending = X.active_auto_lending / X.active_auto_lending.std() \n",
    "X.nonactive_auto_lending = X.nonactive_auto_lending / X.nonactive_auto_lending.std() \n",
    "\n",
    "X.loans_in_first_week = X.loans_in_first_week / X.loans_in_first_week.std()\n",
    "X.usd_in_first_week = X.usd_in_first_week.astype(float) / X.usd_in_first_week.astype(float).std()\n",
    "X.comments_within_week = X.comments_within_week / X.comments_within_week.std()\n",
    "X.polarity_score = (X.polarity_score - X.polarity_score.min())\n",
    "X.polarity_score = X.polarity_score.fillna(X.polarity_score.median())\n",
    "X.polarity_score = X.polarity_score / X.polarity_score.std()\n",
    "X.subjectivity_score = X.subjectivity_score.fillna(X.subjectivity_score.median())\n",
    "X.subjectivity_score = X.subjectivity_score / X.subjectivity_score.std()\n",
    "X.avg_comment_length = X.avg_comment_length.fillna(X.avg_comment_length.median())\n",
    "X.avg_comment_length = X.avg_comment_length / X.avg_comment_length.std()\n"
   ]
  },
  {
   "cell_type": "code",
   "execution_count": 88,
   "metadata": {
    "collapsed": false
   },
   "outputs": [],
   "source": [
    "X_train, X_test, y_train, y_test = train_test_split(X, y, test_size=0.3, random_state=0)"
   ]
  },
  {
   "cell_type": "code",
   "execution_count": 89,
   "metadata": {
    "collapsed": false
   },
   "outputs": [],
   "source": [
    "inds = pd.isnull(X_train).any(1).nonzero()[0]"
   ]
  },
  {
   "cell_type": "markdown",
   "metadata": {},
   "source": [
    "## Comment specific data\n",
    "- We make specific feature matrices to explore the effect of comment data in isolation"
   ]
  },
  {
   "cell_type": "code",
   "execution_count": 90,
   "metadata": {
    "collapsed": false
   },
   "outputs": [],
   "source": [
    "X_train2 = X_train.loc[:,('comments_within_week','polarity_score','subjectivity_score','avg_comment_length')]\n",
    "X_test2 = X_test.loc[:,('comments_within_week','polarity_score','subjectivity_score','avg_comment_length')]"
   ]
  },
  {
   "cell_type": "markdown",
   "metadata": {},
   "source": [
    "## Logistic model with l1-regularization"
   ]
  },
  {
   "cell_type": "code",
   "execution_count": 91,
   "metadata": {
    "collapsed": false
   },
   "outputs": [
    {
     "data": {
      "text/plain": [
       "0.6492411467116358"
      ]
     },
     "execution_count": 91,
     "metadata": {},
     "output_type": "execute_result"
    }
   ],
   "source": [
    "# instantiate a logistic regression model, and fit with X and y\n",
    "model = LogisticRegression(penalty='l1',C=0.1)\n",
    "model = model.fit(X_train, y_train)\n",
    "predicted = model.predict(X_test)\n",
    "probs = model.predict_proba(X_test)\n",
    "\n",
    "# check the accuracy on the training set\n",
    "model.score(X_train, y_train)"
   ]
  },
  {
   "cell_type": "code",
   "execution_count": 92,
   "metadata": {
    "collapsed": false
   },
   "outputs": [
    {
     "data": {
      "text/plain": [
       "0.5039325842696629"
      ]
     },
     "execution_count": 92,
     "metadata": {},
     "output_type": "execute_result"
    }
   ],
   "source": [
    "float(sum(y_test==1)) /(sum(y_test==1) + sum(y_test==0))"
   ]
  },
  {
   "cell_type": "code",
   "execution_count": 93,
   "metadata": {
    "collapsed": false
   },
   "outputs": [
    {
     "name": "stdout",
     "output_type": "stream",
     "text": [
      "Accuracy on test set is: 0.611797752809\n",
      "Precision is: 0.618119266055\n",
      "Recall is: 0.600891861761\n",
      "Area under ROC-curve is: 0.640946731965\n"
     ]
    }
   ],
   "source": [
    "print \"Accuracy on test set is: \" + str(metrics.accuracy_score(y_test, predicted))\n",
    "print \"Precision is: \" + str(metrics.precision_score(y_test, predicted))\n",
    "print \"Recall is: \" + str(metrics.recall_score(y_test, predicted))\n",
    "print \"Area under ROC-curve is: \" + str(metrics.roc_auc_score(y_test, probs[:, 1]))"
   ]
  },
  {
   "cell_type": "code",
   "execution_count": 94,
   "metadata": {
    "collapsed": false
   },
   "outputs": [],
   "source": [
    "# Coefficient for the various features\n",
    "name_df = pd.DataFrame(zip(X_train.columns, np.transpose(model.coef_)))"
   ]
  },
  {
   "cell_type": "markdown",
   "metadata": {},
   "source": [
    "## Logistic model with l1-regularization only comment data"
   ]
  },
  {
   "cell_type": "code",
   "execution_count": 95,
   "metadata": {
    "collapsed": false
   },
   "outputs": [
    {
     "data": {
      "text/plain": [
       "0.52083835220428809"
      ]
     },
     "execution_count": 95,
     "metadata": {},
     "output_type": "execute_result"
    }
   ],
   "source": [
    "# instantiate a logistic regression model, and fit with X and y\n",
    "model2 = LogisticRegression(penalty='l1',C=0.5)\n",
    "model2 = model2.fit(X_train2, y_train)\n",
    "predicted2 = model2.predict(X_test2)\n",
    "probs2 = model2.predict_proba(X_test2)\n",
    "\n",
    "# check the accuracy on the training set\n",
    "model2.score(X_train2, y_train)"
   ]
  },
  {
   "cell_type": "code",
   "execution_count": 96,
   "metadata": {
    "collapsed": false
   },
   "outputs": [
    {
     "data": {
      "text/plain": [
       "array([ 0.71207122,  0.56859108,  0.57753008, ...,  0.47323091,\n",
       "        0.33203894,  0.40101188])"
      ]
     },
     "execution_count": 96,
     "metadata": {},
     "output_type": "execute_result"
    }
   ],
   "source": [
    "probs[:, 1]"
   ]
  },
  {
   "cell_type": "code",
   "execution_count": 97,
   "metadata": {
    "collapsed": false
   },
   "outputs": [
    {
     "name": "stdout",
     "output_type": "stream",
     "text": [
      "Accuracy on test set is: 0.507865168539\n",
      "Precision is: 0.506414172266\n",
      "Recall is: 0.924191750279\n",
      "Area under ROC-curve is: 0.55311337275\n"
     ]
    }
   ],
   "source": [
    "print \"Accuracy on test set is: \" + str(metrics.accuracy_score(y_test, predicted2))\n",
    "print \"Precision is: \" + str(metrics.precision_score(y_test, predicted2))\n",
    "print \"Recall is: \" + str(metrics.recall_score(y_test, predicted2))\n",
    "print \"Area under ROC-curve is: \" + str(metrics.roc_auc_score(y_test, probs2[:, 1]))"
   ]
  },
  {
   "cell_type": "code",
   "execution_count": 98,
   "metadata": {
    "collapsed": false
   },
   "outputs": [
    {
     "data": {
      "text/html": [
       "<div>\n",
       "<table border=\"1\" class=\"dataframe\">\n",
       "  <thead>\n",
       "    <tr style=\"text-align: right;\">\n",
       "      <th></th>\n",
       "      <th>0</th>\n",
       "      <th>1</th>\n",
       "    </tr>\n",
       "  </thead>\n",
       "  <tbody>\n",
       "    <tr>\n",
       "      <th>0</th>\n",
       "      <td>comments_within_week</td>\n",
       "      <td>[0.0907219350751]</td>\n",
       "    </tr>\n",
       "    <tr>\n",
       "      <th>1</th>\n",
       "      <td>polarity_score</td>\n",
       "      <td>[0.0563750137921]</td>\n",
       "    </tr>\n",
       "    <tr>\n",
       "      <th>2</th>\n",
       "      <td>subjectivity_score</td>\n",
       "      <td>[-0.0612632745172]</td>\n",
       "    </tr>\n",
       "    <tr>\n",
       "      <th>3</th>\n",
       "      <td>avg_comment_length</td>\n",
       "      <td>[-0.00208130574155]</td>\n",
       "    </tr>\n",
       "  </tbody>\n",
       "</table>\n",
       "</div>"
      ],
      "text/plain": [
       "                      0                    1\n",
       "0  comments_within_week    [0.0907219350751]\n",
       "1        polarity_score    [0.0563750137921]\n",
       "2    subjectivity_score   [-0.0612632745172]\n",
       "3    avg_comment_length  [-0.00208130574155]"
      ]
     },
     "execution_count": 98,
     "metadata": {},
     "output_type": "execute_result"
    }
   ],
   "source": [
    "# Coefficient for the various features\n",
    "pd.DataFrame(zip(X_train2.columns, np.transpose(model2.coef_)))"
   ]
  },
  {
   "cell_type": "markdown",
   "metadata": {},
   "source": [
    "## Random forest classifier"
   ]
  },
  {
   "cell_type": "code",
   "execution_count": 99,
   "metadata": {
    "collapsed": false
   },
   "outputs": [
    {
     "data": {
      "text/plain": [
       "0.74680799807275355"
      ]
     },
     "execution_count": 99,
     "metadata": {},
     "output_type": "execute_result"
    }
   ],
   "source": [
    "rf = RandomForestClassifier(n_estimators=1000,max_depth=10)\n",
    "rf.fit(X_train, y_train)\n",
    "predicted = rf.predict(X_test)\n",
    "probs = rf.predict_proba(X_test)\n",
    "# check the accuracy on the training set\n",
    "rf.score(X_train, y_train)"
   ]
  },
  {
   "cell_type": "code",
   "execution_count": 100,
   "metadata": {
    "collapsed": false
   },
   "outputs": [
    {
     "name": "stdout",
     "output_type": "stream",
     "text": [
      "Accuracy on test set is: 0.635393258427\n",
      "Precision is: 0.613553113553\n",
      "Recall is: 0.746934225195\n",
      "Area under ROC-curve is: 0.681536921234\n"
     ]
    }
   ],
   "source": [
    "print \"Accuracy on test set is: \" + str(metrics.accuracy_score(y_test, predicted))\n",
    "print \"Precision is: \" + str(metrics.precision_score(y_test, predicted))\n",
    "print \"Recall is: \" + str(metrics.recall_score(y_test, predicted))\n",
    "print \"Area under ROC-curve is: \" + str(metrics.roc_auc_score(y_test, probs[:, 1]))"
   ]
  },
  {
   "cell_type": "code",
   "execution_count": 101,
   "metadata": {
    "collapsed": false
   },
   "outputs": [
    {
     "data": {
      "image/png": "[encoded data removed]",
      "text/plain": [
       "<matplotlib.figure.Figure at 0x1ae59ce50>"
      ]
     },
     "metadata": {},
     "output_type": "display_data"
    }
   ],
   "source": [
    "font = {'weight' : 'normal',\n",
    "        'size'   : 16}\n",
    "\n",
    "plt.rc('font', **font)\n",
    "\n",
    "importances = rf.feature_importances_\n",
    "indices = np.argsort(importances)[::1]\n",
    "indices = indices[-20:]\n",
    "importances = importances[indices]\n",
    "mpl_fig = plt.figure()\n",
    "ax = mpl_fig.add_subplot(111)\n",
    "\n",
    "mpl_fig.set_figwidth(4.5)\n",
    "mpl_fig.set_figheight(4.5)\n",
    "\n",
    "\n",
    "N = len(importances)\n",
    "y_vals = importances\n",
    "ind = np.arange(N)    # the x locations for the groups\n",
    "width = 0.75       # the width of the bars: can also be len(x) sequence\n",
    "\n",
    "p1 = ax.barh(ind, y_vals, width, color=(80.0/256, 131.0/256, 182.0/256))\n",
    "ax.set_xlabel('RF Variable importance')\n",
    "#ax.set_xlabel('Number of loans')\n",
    "#ax.set_title('Number of loans')\n",
    "\n",
    "ax.set_yticks(ind + width/2.)\n",
    "ax.set_xticks(np.arange(0.0, 1.001, 0.2))\n",
    "ax.set_yticklabels(list(X_train.columns[indices]))\n",
    "plt.savefig('RandomForest.pdf', bbox_inches='tight')"
   ]
  },
  {
   "cell_type": "markdown",
   "metadata": {},
   "source": [
    "## Explore correlation among most predictive features"
   ]
  },
  {
   "cell_type": "code",
   "execution_count": 102,
   "metadata": {
    "collapsed": false
   },
   "outputs": [
    {
     "data": {
      "text/html": [
       "<div>\n",
       "<table border=\"1\" class=\"dataframe\">\n",
       "  <thead>\n",
       "    <tr style=\"text-align: right;\">\n",
       "      <th></th>\n",
       "      <th>retained</th>\n",
       "      <th>business</th>\n",
       "      <th>bless</th>\n",
       "      <th>buy</th>\n",
       "      <th>good</th>\n",
       "      <th>best</th>\n",
       "      <th>lenders</th>\n",
       "      <th>god</th>\n",
       "      <th>zidisha</th>\n",
       "      <th>luck</th>\n",
       "      <th>loan</th>\n",
       "      <th>thank</th>\n",
       "      <th>avg_comment_length</th>\n",
       "      <th>subjectivity_score</th>\n",
       "      <th>polarity_score</th>\n",
       "      <th>comments_within_week</th>\n",
       "      <th>gift_card_giver</th>\n",
       "      <th>inviter</th>\n",
       "      <th>nonactive_auto_lending</th>\n",
       "      <th>loans_in_first_week</th>\n",
       "    </tr>\n",
       "  </thead>\n",
       "  <tbody>\n",
       "    <tr>\n",
       "      <th>retained</th>\n",
       "      <td>1.000000</td>\n",
       "      <td>0.051033</td>\n",
       "      <td>0.037586</td>\n",
       "      <td>-0.031883</td>\n",
       "      <td>0.056637</td>\n",
       "      <td>0.069586</td>\n",
       "      <td>0.007549</td>\n",
       "      <td>0.040657</td>\n",
       "      <td>0.040352</td>\n",
       "      <td>0.079111</td>\n",
       "      <td>0.025208</td>\n",
       "      <td>0.024810</td>\n",
       "      <td>-0.022543</td>\n",
       "      <td>-0.003816</td>\n",
       "      <td>0.026682</td>\n",
       "      <td>0.039899</td>\n",
       "      <td>0.155652</td>\n",
       "      <td>0.130957</td>\n",
       "      <td>0.169297</td>\n",
       "      <td>0.030586</td>\n",
       "    </tr>\n",
       "    <tr>\n",
       "      <th>business</th>\n",
       "      <td>0.051033</td>\n",
       "      <td>1.000000</td>\n",
       "      <td>0.661781</td>\n",
       "      <td>0.534913</td>\n",
       "      <td>0.766592</td>\n",
       "      <td>0.656575</td>\n",
       "      <td>0.794529</td>\n",
       "      <td>0.676744</td>\n",
       "      <td>0.753553</td>\n",
       "      <td>0.534818</td>\n",
       "      <td>0.833179</td>\n",
       "      <td>0.781315</td>\n",
       "      <td>0.096008</td>\n",
       "      <td>0.035151</td>\n",
       "      <td>0.011234</td>\n",
       "      <td>0.839546</td>\n",
       "      <td>0.025460</td>\n",
       "      <td>0.057104</td>\n",
       "      <td>0.065218</td>\n",
       "      <td>0.684208</td>\n",
       "    </tr>\n",
       "    <tr>\n",
       "      <th>bless</th>\n",
       "      <td>0.037586</td>\n",
       "      <td>0.661781</td>\n",
       "      <td>1.000000</td>\n",
       "      <td>0.513815</td>\n",
       "      <td>0.619744</td>\n",
       "      <td>0.612140</td>\n",
       "      <td>0.749816</td>\n",
       "      <td>0.975170</td>\n",
       "      <td>0.658119</td>\n",
       "      <td>0.405746</td>\n",
       "      <td>0.709482</td>\n",
       "      <td>0.766463</td>\n",
       "      <td>0.002677</td>\n",
       "      <td>0.018359</td>\n",
       "      <td>-0.020095</td>\n",
       "      <td>0.782502</td>\n",
       "      <td>0.010626</td>\n",
       "      <td>0.015314</td>\n",
       "      <td>0.076671</td>\n",
       "      <td>0.560005</td>\n",
       "    </tr>\n",
       "    <tr>\n",
       "      <th>buy</th>\n",
       "      <td>-0.031883</td>\n",
       "      <td>0.534913</td>\n",
       "      <td>0.513815</td>\n",
       "      <td>1.000000</td>\n",
       "      <td>0.430975</td>\n",
       "      <td>0.304304</td>\n",
       "      <td>0.640044</td>\n",
       "      <td>0.503652</td>\n",
       "      <td>0.542082</td>\n",
       "      <td>0.193656</td>\n",
       "      <td>0.622331</td>\n",
       "      <td>0.703406</td>\n",
       "      <td>0.064914</td>\n",
       "      <td>-0.013983</td>\n",
       "      <td>-0.064825</td>\n",
       "      <td>0.604323</td>\n",
       "      <td>0.028306</td>\n",
       "      <td>-0.046791</td>\n",
       "      <td>0.081377</td>\n",
       "      <td>0.616187</td>\n",
       "    </tr>\n",
       "    <tr>\n",
       "      <th>good</th>\n",
       "      <td>0.056637</td>\n",
       "      <td>0.766592</td>\n",
       "      <td>0.619744</td>\n",
       "      <td>0.430975</td>\n",
       "      <td>1.000000</td>\n",
       "      <td>0.601149</td>\n",
       "      <td>0.746244</td>\n",
       "      <td>0.630780</td>\n",
       "      <td>0.703848</td>\n",
       "      <td>0.727248</td>\n",
       "      <td>0.772540</td>\n",
       "      <td>0.720112</td>\n",
       "      <td>0.012340</td>\n",
       "      <td>0.088603</td>\n",
       "      <td>0.075335</td>\n",
       "      <td>0.824007</td>\n",
       "      <td>0.021499</td>\n",
       "      <td>0.068142</td>\n",
       "      <td>0.085441</td>\n",
       "      <td>0.599224</td>\n",
       "    </tr>\n",
       "    <tr>\n",
       "      <th>best</th>\n",
       "      <td>0.069586</td>\n",
       "      <td>0.656575</td>\n",
       "      <td>0.612140</td>\n",
       "      <td>0.304304</td>\n",
       "      <td>0.601149</td>\n",
       "      <td>1.000000</td>\n",
       "      <td>0.615260</td>\n",
       "      <td>0.616162</td>\n",
       "      <td>0.582040</td>\n",
       "      <td>0.488843</td>\n",
       "      <td>0.618162</td>\n",
       "      <td>0.619439</td>\n",
       "      <td>-0.003416</td>\n",
       "      <td>0.035609</td>\n",
       "      <td>0.157468</td>\n",
       "      <td>0.717960</td>\n",
       "      <td>0.035842</td>\n",
       "      <td>0.068861</td>\n",
       "      <td>0.064034</td>\n",
       "      <td>0.439093</td>\n",
       "    </tr>\n",
       "    <tr>\n",
       "      <th>lenders</th>\n",
       "      <td>0.007549</td>\n",
       "      <td>0.794529</td>\n",
       "      <td>0.749816</td>\n",
       "      <td>0.640044</td>\n",
       "      <td>0.746244</td>\n",
       "      <td>0.615260</td>\n",
       "      <td>1.000000</td>\n",
       "      <td>0.751143</td>\n",
       "      <td>0.845136</td>\n",
       "      <td>0.453034</td>\n",
       "      <td>0.917271</td>\n",
       "      <td>0.911811</td>\n",
       "      <td>0.019367</td>\n",
       "      <td>0.006109</td>\n",
       "      <td>-0.055300</td>\n",
       "      <td>0.921139</td>\n",
       "      <td>0.010822</td>\n",
       "      <td>0.019989</td>\n",
       "      <td>0.090353</td>\n",
       "      <td>0.745181</td>\n",
       "    </tr>\n",
       "    <tr>\n",
       "      <th>god</th>\n",
       "      <td>0.040657</td>\n",
       "      <td>0.676744</td>\n",
       "      <td>0.975170</td>\n",
       "      <td>0.503652</td>\n",
       "      <td>0.630780</td>\n",
       "      <td>0.616162</td>\n",
       "      <td>0.751143</td>\n",
       "      <td>1.000000</td>\n",
       "      <td>0.665048</td>\n",
       "      <td>0.410209</td>\n",
       "      <td>0.713529</td>\n",
       "      <td>0.766847</td>\n",
       "      <td>0.011076</td>\n",
       "      <td>0.022071</td>\n",
       "      <td>-0.019326</td>\n",
       "      <td>0.786080</td>\n",
       "      <td>0.015451</td>\n",
       "      <td>0.017561</td>\n",
       "      <td>0.073920</td>\n",
       "      <td>0.560455</td>\n",
       "    </tr>\n",
       "    <tr>\n",
       "      <th>zidisha</th>\n",
       "      <td>0.040352</td>\n",
       "      <td>0.753553</td>\n",
       "      <td>0.658119</td>\n",
       "      <td>0.542082</td>\n",
       "      <td>0.703848</td>\n",
       "      <td>0.582040</td>\n",
       "      <td>0.845136</td>\n",
       "      <td>0.665048</td>\n",
       "      <td>1.000000</td>\n",
       "      <td>0.439283</td>\n",
       "      <td>0.868715</td>\n",
       "      <td>0.823441</td>\n",
       "      <td>0.087779</td>\n",
       "      <td>0.008999</td>\n",
       "      <td>-0.057522</td>\n",
       "      <td>0.859328</td>\n",
       "      <td>0.006968</td>\n",
       "      <td>0.046399</td>\n",
       "      <td>0.087924</td>\n",
       "      <td>0.684289</td>\n",
       "    </tr>\n",
       "    <tr>\n",
       "      <th>luck</th>\n",
       "      <td>0.079111</td>\n",
       "      <td>0.534818</td>\n",
       "      <td>0.405746</td>\n",
       "      <td>0.193656</td>\n",
       "      <td>0.727248</td>\n",
       "      <td>0.488843</td>\n",
       "      <td>0.453034</td>\n",
       "      <td>0.410209</td>\n",
       "      <td>0.439283</td>\n",
       "      <td>1.000000</td>\n",
       "      <td>0.490551</td>\n",
       "      <td>0.449498</td>\n",
       "      <td>-0.075484</td>\n",
       "      <td>0.097744</td>\n",
       "      <td>0.162357</td>\n",
       "      <td>0.587084</td>\n",
       "      <td>0.044119</td>\n",
       "      <td>0.076612</td>\n",
       "      <td>0.070747</td>\n",
       "      <td>0.332750</td>\n",
       "    </tr>\n",
       "    <tr>\n",
       "      <th>loan</th>\n",
       "      <td>0.025208</td>\n",
       "      <td>0.833179</td>\n",
       "      <td>0.709482</td>\n",
       "      <td>0.622331</td>\n",
       "      <td>0.772540</td>\n",
       "      <td>0.618162</td>\n",
       "      <td>0.917271</td>\n",
       "      <td>0.713529</td>\n",
       "      <td>0.868715</td>\n",
       "      <td>0.490551</td>\n",
       "      <td>1.000000</td>\n",
       "      <td>0.894341</td>\n",
       "      <td>0.058883</td>\n",
       "      <td>0.016292</td>\n",
       "      <td>-0.048555</td>\n",
       "      <td>0.917418</td>\n",
       "      <td>0.019003</td>\n",
       "      <td>0.029494</td>\n",
       "      <td>0.083849</td>\n",
       "      <td>0.771970</td>\n",
       "    </tr>\n",
       "    <tr>\n",
       "      <th>thank</th>\n",
       "      <td>0.024810</td>\n",
       "      <td>0.781315</td>\n",
       "      <td>0.766463</td>\n",
       "      <td>0.703406</td>\n",
       "      <td>0.720112</td>\n",
       "      <td>0.619439</td>\n",
       "      <td>0.911811</td>\n",
       "      <td>0.766847</td>\n",
       "      <td>0.823441</td>\n",
       "      <td>0.449498</td>\n",
       "      <td>0.894341</td>\n",
       "      <td>1.000000</td>\n",
       "      <td>0.001580</td>\n",
       "      <td>0.001130</td>\n",
       "      <td>-0.045272</td>\n",
       "      <td>0.921811</td>\n",
       "      <td>0.021282</td>\n",
       "      <td>0.016074</td>\n",
       "      <td>0.090619</td>\n",
       "      <td>0.749392</td>\n",
       "    </tr>\n",
       "    <tr>\n",
       "      <th>avg_comment_length</th>\n",
       "      <td>-0.022543</td>\n",
       "      <td>0.096008</td>\n",
       "      <td>0.002677</td>\n",
       "      <td>0.064914</td>\n",
       "      <td>0.012340</td>\n",
       "      <td>-0.003416</td>\n",
       "      <td>0.019367</td>\n",
       "      <td>0.011076</td>\n",
       "      <td>0.087779</td>\n",
       "      <td>-0.075484</td>\n",
       "      <td>0.058883</td>\n",
       "      <td>0.001580</td>\n",
       "      <td>1.000000</td>\n",
       "      <td>0.157500</td>\n",
       "      <td>-0.129785</td>\n",
       "      <td>-0.026271</td>\n",
       "      <td>0.008023</td>\n",
       "      <td>0.013749</td>\n",
       "      <td>-0.029588</td>\n",
       "      <td>0.004506</td>\n",
       "    </tr>\n",
       "    <tr>\n",
       "      <th>subjectivity_score</th>\n",
       "      <td>-0.003816</td>\n",
       "      <td>0.035151</td>\n",
       "      <td>0.018359</td>\n",
       "      <td>-0.013983</td>\n",
       "      <td>0.088603</td>\n",
       "      <td>0.035609</td>\n",
       "      <td>0.006109</td>\n",
       "      <td>0.022071</td>\n",
       "      <td>0.008999</td>\n",
       "      <td>0.097744</td>\n",
       "      <td>0.016292</td>\n",
       "      <td>0.001130</td>\n",
       "      <td>0.157500</td>\n",
       "      <td>1.000000</td>\n",
       "      <td>0.556578</td>\n",
       "      <td>-0.003158</td>\n",
       "      <td>0.027178</td>\n",
       "      <td>0.026375</td>\n",
       "      <td>-0.008346</td>\n",
       "      <td>0.001214</td>\n",
       "    </tr>\n",
       "    <tr>\n",
       "      <th>polarity_score</th>\n",
       "      <td>0.026682</td>\n",
       "      <td>0.011234</td>\n",
       "      <td>-0.020095</td>\n",
       "      <td>-0.064825</td>\n",
       "      <td>0.075335</td>\n",
       "      <td>0.157468</td>\n",
       "      <td>-0.055300</td>\n",
       "      <td>-0.019326</td>\n",
       "      <td>-0.057522</td>\n",
       "      <td>0.162357</td>\n",
       "      <td>-0.048555</td>\n",
       "      <td>-0.045272</td>\n",
       "      <td>-0.129785</td>\n",
       "      <td>0.556578</td>\n",
       "      <td>1.000000</td>\n",
       "      <td>-0.030800</td>\n",
       "      <td>0.016012</td>\n",
       "      <td>0.024185</td>\n",
       "      <td>-0.013430</td>\n",
       "      <td>-0.017041</td>\n",
       "    </tr>\n",
       "    <tr>\n",
       "      <th>comments_within_week</th>\n",
       "      <td>0.039899</td>\n",
       "      <td>0.839546</td>\n",
       "      <td>0.782502</td>\n",
       "      <td>0.604323</td>\n",
       "      <td>0.824007</td>\n",
       "      <td>0.717960</td>\n",
       "      <td>0.921139</td>\n",
       "      <td>0.786080</td>\n",
       "      <td>0.859328</td>\n",
       "      <td>0.587084</td>\n",
       "      <td>0.917418</td>\n",
       "      <td>0.921811</td>\n",
       "      <td>-0.026271</td>\n",
       "      <td>-0.003158</td>\n",
       "      <td>-0.030800</td>\n",
       "      <td>1.000000</td>\n",
       "      <td>0.026004</td>\n",
       "      <td>0.048125</td>\n",
       "      <td>0.092196</td>\n",
       "      <td>0.725717</td>\n",
       "    </tr>\n",
       "    <tr>\n",
       "      <th>gift_card_giver</th>\n",
       "      <td>0.155652</td>\n",
       "      <td>0.025460</td>\n",
       "      <td>0.010626</td>\n",
       "      <td>0.028306</td>\n",
       "      <td>0.021499</td>\n",
       "      <td>0.035842</td>\n",
       "      <td>0.010822</td>\n",
       "      <td>0.015451</td>\n",
       "      <td>0.006968</td>\n",
       "      <td>0.044119</td>\n",
       "      <td>0.019003</td>\n",
       "      <td>0.021282</td>\n",
       "      <td>0.008023</td>\n",
       "      <td>0.027178</td>\n",
       "      <td>0.016012</td>\n",
       "      <td>0.026004</td>\n",
       "      <td>1.000000</td>\n",
       "      <td>0.180507</td>\n",
       "      <td>0.097215</td>\n",
       "      <td>0.013705</td>\n",
       "    </tr>\n",
       "    <tr>\n",
       "      <th>inviter</th>\n",
       "      <td>0.130957</td>\n",
       "      <td>0.057104</td>\n",
       "      <td>0.015314</td>\n",
       "      <td>-0.046791</td>\n",
       "      <td>0.068142</td>\n",
       "      <td>0.068861</td>\n",
       "      <td>0.019989</td>\n",
       "      <td>0.017561</td>\n",
       "      <td>0.046399</td>\n",
       "      <td>0.076612</td>\n",
       "      <td>0.029494</td>\n",
       "      <td>0.016074</td>\n",
       "      <td>0.013749</td>\n",
       "      <td>0.026375</td>\n",
       "      <td>0.024185</td>\n",
       "      <td>0.048125</td>\n",
       "      <td>0.180507</td>\n",
       "      <td>1.000000</td>\n",
       "      <td>0.047403</td>\n",
       "      <td>-0.001067</td>\n",
       "    </tr>\n",
       "    <tr>\n",
       "      <th>nonactive_auto_lending</th>\n",
       "      <td>0.169297</td>\n",
       "      <td>0.065218</td>\n",
       "      <td>0.076671</td>\n",
       "      <td>0.081377</td>\n",
       "      <td>0.085441</td>\n",
       "      <td>0.064034</td>\n",
       "      <td>0.090353</td>\n",
       "      <td>0.073920</td>\n",
       "      <td>0.087924</td>\n",
       "      <td>0.070747</td>\n",
       "      <td>0.083849</td>\n",
       "      <td>0.090619</td>\n",
       "      <td>-0.029588</td>\n",
       "      <td>-0.008346</td>\n",
       "      <td>-0.013430</td>\n",
       "      <td>0.092196</td>\n",
       "      <td>0.097215</td>\n",
       "      <td>0.047403</td>\n",
       "      <td>1.000000</td>\n",
       "      <td>0.067573</td>\n",
       "    </tr>\n",
       "    <tr>\n",
       "      <th>loans_in_first_week</th>\n",
       "      <td>0.030586</td>\n",
       "      <td>0.684208</td>\n",
       "      <td>0.560005</td>\n",
       "      <td>0.616187</td>\n",
       "      <td>0.599224</td>\n",
       "      <td>0.439093</td>\n",
       "      <td>0.745181</td>\n",
       "      <td>0.560455</td>\n",
       "      <td>0.684289</td>\n",
       "      <td>0.332750</td>\n",
       "      <td>0.771970</td>\n",
       "      <td>0.749392</td>\n",
       "      <td>0.004506</td>\n",
       "      <td>0.001214</td>\n",
       "      <td>-0.017041</td>\n",
       "      <td>0.725717</td>\n",
       "      <td>0.013705</td>\n",
       "      <td>-0.001067</td>\n",
       "      <td>0.067573</td>\n",
       "      <td>1.000000</td>\n",
       "    </tr>\n",
       "  </tbody>\n",
       "</table>\n",
       "</div>"
      ],
      "text/plain": [
       "                        retained  business     bless       buy      good  \\\n",
       "retained                1.000000  0.051033  0.037586 -0.031883  0.056637   \n",
       "business                0.051033  1.000000  0.661781  0.534913  0.766592   \n",
       "bless                   0.037586  0.661781  1.000000  0.513815  0.619744   \n",
       "buy                    -0.031883  0.534913  0.513815  1.000000  0.430975   \n",
       "good                    0.056637  0.766592  0.619744  0.430975  1.000000   \n",
       "best                    0.069586  0.656575  0.612140  0.304304  0.601149   \n",
       "lenders                 0.007549  0.794529  0.749816  0.640044  0.746244   \n",
       "god                     0.040657  0.676744  0.975170  0.503652  0.630780   \n",
       "zidisha                 0.040352  0.753553  0.658119  0.542082  0.703848   \n",
       "luck                    0.079111  0.534818  0.405746  0.193656  0.727248   \n",
       "loan                    0.025208  0.833179  0.709482  0.622331  0.772540   \n",
       "thank                   0.024810  0.781315  0.766463  0.703406  0.720112   \n",
       "avg_comment_length     -0.022543  0.096008  0.002677  0.064914  0.012340   \n",
       "subjectivity_score     -0.003816  0.035151  0.018359 -0.013983  0.088603   \n",
       "polarity_score          0.026682  0.011234 -0.020095 -0.064825  0.075335   \n",
       "comments_within_week    0.039899  0.839546  0.782502  0.604323  0.824007   \n",
       "gift_card_giver         0.155652  0.025460  0.010626  0.028306  0.021499   \n",
       "inviter                 0.130957  0.057104  0.015314 -0.046791  0.068142   \n",
       "nonactive_auto_lending  0.169297  0.065218  0.076671  0.081377  0.085441   \n",
       "loans_in_first_week     0.030586  0.684208  0.560005  0.616187  0.599224   \n",
       "\n",
       "                            best   lenders       god   zidisha      luck  \\\n",
       "retained                0.069586  0.007549  0.040657  0.040352  0.079111   \n",
       "business                0.656575  0.794529  0.676744  0.753553  0.534818   \n",
       "bless                   0.612140  0.749816  0.975170  0.658119  0.405746   \n",
       "buy                     0.304304  0.640044  0.503652  0.542082  0.193656   \n",
       "good                    0.601149  0.746244  0.630780  0.703848  0.727248   \n",
       "best                    1.000000  0.615260  0.616162  0.582040  0.488843   \n",
       "lenders                 0.615260  1.000000  0.751143  0.845136  0.453034   \n",
       "god                     0.616162  0.751143  1.000000  0.665048  0.410209   \n",
       "zidisha                 0.582040  0.845136  0.665048  1.000000  0.439283   \n",
       "luck                    0.488843  0.453034  0.410209  0.439283  1.000000   \n",
       "loan                    0.618162  0.917271  0.713529  0.868715  0.490551   \n",
       "thank                   0.619439  0.911811  0.766847  0.823441  0.449498   \n",
       "avg_comment_length     -0.003416  0.019367  0.011076  0.087779 -0.075484   \n",
       "subjectivity_score      0.035609  0.006109  0.022071  0.008999  0.097744   \n",
       "polarity_score          0.157468 -0.055300 -0.019326 -0.057522  0.162357   \n",
       "comments_within_week    0.717960  0.921139  0.786080  0.859328  0.587084   \n",
       "gift_card_giver         0.035842  0.010822  0.015451  0.006968  0.044119   \n",
       "inviter                 0.068861  0.019989  0.017561  0.046399  0.076612   \n",
       "nonactive_auto_lending  0.064034  0.090353  0.073920  0.087924  0.070747   \n",
       "loans_in_first_week     0.439093  0.745181  0.560455  0.684289  0.332750   \n",
       "\n",
       "                            loan     thank  avg_comment_length  \\\n",
       "retained                0.025208  0.024810           -0.022543   \n",
       "business                0.833179  0.781315            0.096008   \n",
       "bless                   0.709482  0.766463            0.002677   \n",
       "buy                     0.622331  0.703406            0.064914   \n",
       "good                    0.772540  0.720112            0.012340   \n",
       "best                    0.618162  0.619439           -0.003416   \n",
       "lenders                 0.917271  0.911811            0.019367   \n",
       "god                     0.713529  0.766847            0.011076   \n",
       "zidisha                 0.868715  0.823441            0.087779   \n",
       "luck                    0.490551  0.449498           -0.075484   \n",
       "loan                    1.000000  0.894341            0.058883   \n",
       "thank                   0.894341  1.000000            0.001580   \n",
       "avg_comment_length      0.058883  0.001580            1.000000   \n",
       "subjectivity_score      0.016292  0.001130            0.157500   \n",
       "polarity_score         -0.048555 -0.045272           -0.129785   \n",
       "comments_within_week    0.917418  0.921811           -0.026271   \n",
       "gift_card_giver         0.019003  0.021282            0.008023   \n",
       "inviter                 0.029494  0.016074            0.013749   \n",
       "nonactive_auto_lending  0.083849  0.090619           -0.029588   \n",
       "loans_in_first_week     0.771970  0.749392            0.004506   \n",
       "\n",
       "                        subjectivity_score  polarity_score  \\\n",
       "retained                         -0.003816        0.026682   \n",
       "business                          0.035151        0.011234   \n",
       "bless                             0.018359       -0.020095   \n",
       "buy                              -0.013983       -0.064825   \n",
       "good                              0.088603        0.075335   \n",
       "best                              0.035609        0.157468   \n",
       "lenders                           0.006109       -0.055300   \n",
       "god                               0.022071       -0.019326   \n",
       "zidisha                           0.008999       -0.057522   \n",
       "luck                              0.097744        0.162357   \n",
       "loan                              0.016292       -0.048555   \n",
       "thank                             0.001130       -0.045272   \n",
       "avg_comment_length                0.157500       -0.129785   \n",
       "subjectivity_score                1.000000        0.556578   \n",
       "polarity_score                    0.556578        1.000000   \n",
       "comments_within_week             -0.003158       -0.030800   \n",
       "gift_card_giver                   0.027178        0.016012   \n",
       "inviter                           0.026375        0.024185   \n",
       "nonactive_auto_lending           -0.008346       -0.013430   \n",
       "loans_in_first_week               0.001214       -0.017041   \n",
       "\n",
       "                        comments_within_week  gift_card_giver   inviter  \\\n",
       "retained                            0.039899         0.155652  0.130957   \n",
       "business                            0.839546         0.025460  0.057104   \n",
       "bless                               0.782502         0.010626  0.015314   \n",
       "buy                                 0.604323         0.028306 -0.046791   \n",
       "good                                0.824007         0.021499  0.068142   \n",
       "best                                0.717960         0.035842  0.068861   \n",
       "lenders                             0.921139         0.010822  0.019989   \n",
       "god                                 0.786080         0.015451  0.017561   \n",
       "zidisha                             0.859328         0.006968  0.046399   \n",
       "luck                                0.587084         0.044119  0.076612   \n",
       "loan                                0.917418         0.019003  0.029494   \n",
       "thank                               0.921811         0.021282  0.016074   \n",
       "avg_comment_length                 -0.026271         0.008023  0.013749   \n",
       "subjectivity_score                 -0.003158         0.027178  0.026375   \n",
       "polarity_score                     -0.030800         0.016012  0.024185   \n",
       "comments_within_week                1.000000         0.026004  0.048125   \n",
       "gift_card_giver                     0.026004         1.000000  0.180507   \n",
       "inviter                             0.048125         0.180507  1.000000   \n",
       "nonactive_auto_lending              0.092196         0.097215  0.047403   \n",
       "loans_in_first_week                 0.725717         0.013705 -0.001067   \n",
       "\n",
       "                        nonactive_auto_lending  loans_in_first_week  \n",
       "retained                              0.169297             0.030586  \n",
       "business                              0.065218             0.684208  \n",
       "bless                                 0.076671             0.560005  \n",
       "buy                                   0.081377             0.616187  \n",
       "good                                  0.085441             0.599224  \n",
       "best                                  0.064034             0.439093  \n",
       "lenders                               0.090353             0.745181  \n",
       "god                                   0.073920             0.560455  \n",
       "zidisha                               0.087924             0.684289  \n",
       "luck                                  0.070747             0.332750  \n",
       "loan                                  0.083849             0.771970  \n",
       "thank                                 0.090619             0.749392  \n",
       "avg_comment_length                   -0.029588             0.004506  \n",
       "subjectivity_score                   -0.008346             0.001214  \n",
       "polarity_score                       -0.013430            -0.017041  \n",
       "comments_within_week                  0.092196             0.725717  \n",
       "gift_card_giver                       0.097215             0.013705  \n",
       "inviter                               0.047403            -0.001067  \n",
       "nonactive_auto_lending                1.000000             0.067573  \n",
       "loans_in_first_week                   0.067573             1.000000  "
      ]
     },
     "execution_count": 102,
     "metadata": {},
     "output_type": "execute_result"
    }
   ],
   "source": [
    "a = ['retained']\n",
    "b = X_train.columns[indices].tolist()\n",
    "for i in range(0,len(b)):\n",
    "    a.append(b[i])\n",
    "lenders_df.loc[(lenders_df['never_uploaded']==0) & (lenders_df['comments_within_week']!=0),a].corr()"
   ]
  },
  {
   "cell_type": "code",
   "execution_count": 103,
   "metadata": {
    "collapsed": false
   },
   "outputs": [],
   "source": [
    "importances = rf.feature_importances_\n",
    "indices = np.argsort(importances)[::1]\n",
    "indices = indices[-20:]\n",
    "X_100_train = X_train[X_train.columns[indices]]\n",
    "X_100_test = X_test[X_test.columns[indices]]"
   ]
  },
  {
   "cell_type": "code",
   "execution_count": 104,
   "metadata": {
    "collapsed": false
   },
   "outputs": [
    {
     "data": {
      "text/plain": [
       "0.73620814261623702"
      ]
     },
     "execution_count": 104,
     "metadata": {},
     "output_type": "execute_result"
    }
   ],
   "source": [
    "rf = RandomForestClassifier(n_estimators=2000,max_depth=8)\n",
    "rf.fit(X_100_train, y_train)\n",
    "predicted = rf.predict(X_100_test)\n",
    "probs = rf.predict_proba(X_100_test)\n",
    "# check the accuracy on the training set\n",
    "rf.score(X_100_train, y_train)\n"
   ]
  },
  {
   "cell_type": "code",
   "execution_count": 105,
   "metadata": {
    "collapsed": false
   },
   "outputs": [
    {
     "name": "stdout",
     "output_type": "stream",
     "text": [
      "Accuracy on test set is: 0.656179775281\n",
      "Precision is: 0.639842983317\n",
      "Recall is: 0.726867335563\n",
      "Area under ROC-curve is: 0.709468203436\n"
     ]
    }
   ],
   "source": [
    "print \"Accuracy on test set is: \" + str(metrics.accuracy_score(y_test, predicted))\n",
    "print \"Precision is: \" + str(metrics.precision_score(y_test, predicted))\n",
    "print \"Recall is: \" + str(metrics.recall_score(y_test, predicted))\n",
    "print \"Area under ROC-curve is: \" + str(metrics.roc_auc_score(y_test, probs[:, 1]))"
   ]
  },
  {
   "cell_type": "code",
   "execution_count": 106,
   "metadata": {
    "collapsed": false
   },
   "outputs": [
    {
     "data": {
      "image/png": "[encoded data removed]",
      "text/plain": [
       "<matplotlib.figure.Figure at 0x1d5551e10>"
      ]
     },
     "metadata": {},
     "output_type": "display_data"
    }
   ],
   "source": [
    "font = {'weight' : 'normal',\n",
    "        'size'   : 30}\n",
    "\n",
    "plt.rc('font', **font)\n",
    "\n",
    "importances = rf.feature_importances_\n",
    "indices = np.argsort(importances)[::1]\n",
    "indices = indices[-20:]\n",
    "importances = importances[indices]\n",
    "mpl_fig = plt.figure()\n",
    "ax = mpl_fig.add_subplot(111)\n",
    "\n",
    "mpl_fig.set_figwidth(6)\n",
    "mpl_fig.set_figheight(6)\n",
    "\n",
    "\n",
    "N = len(importances)\n",
    "y_vals = importances\n",
    "ind = np.arange(N)    # the x locations for the groups\n",
    "width = 0.75       # the width of the bars: can also be len(x) sequence\n",
    "\n",
    "p1 = ax.barh(ind, y_vals, width, color=(80.0/256, 131.0/256, 182.0/256))\n",
    "ax.set_xlabel('Variable importance', fontsize=15)\n",
    "#ax.set_xlabel('Number of loans')\n",
    "#ax.set_title('Number of loans')\n",
    "cleaned_names = ['word: best',\n",
    " 'word: good',\n",
    " 'word: bless',\n",
    " 'word: luck',\n",
    " 'word: god',\n",
    " 'word: zidisha',\n",
    " 'word: business',\n",
    " 'word: buy',\n",
    " 'word: thank',\n",
    " 'word: loan',\n",
    " 'word: lenders',\n",
    " 'inviter',\n",
    " 'received comments in first week',\n",
    " 'gift card giver',\n",
    " 'polarity score',\n",
    " 'avg comment length',\n",
    " 'subjectivity score',\n",
    " 'deactivated auto lending',\n",
    " 'number of loans in first week',\n",
    " 'usd invested in first week']\n",
    "ax.set_yticks(ind + width/2.)\n",
    "ax.set_xticks(np.arange(0.0, 0.2001, 0.05))\n",
    "#ax.set_yticklabels(list(X_100_train.columns[indices]))\n",
    "ax.set_yticklabels(cleaned_names, fontsize=14)\n",
    "#ax.ylabel('ylabel', fontsize=18)\n",
    "plt.savefig('RandomForest.pdf', bbox_inches='tight')"
   ]
  },
  {
   "cell_type": "code",
   "execution_count": 107,
   "metadata": {
    "collapsed": false
   },
   "outputs": [
    {
     "data": {
      "text/plain": [
       "[u'good',\n",
       " u'best',\n",
       " u'luck',\n",
       " u'bless',\n",
       " u'god',\n",
       " u'business',\n",
       " u'zidisha',\n",
       " u'buy',\n",
       " u'thank',\n",
       " u'loan',\n",
       " u'lenders',\n",
       " 'inviter',\n",
       " 'comments_within_week',\n",
       " 'gift_card_giver',\n",
       " 'polarity_score',\n",
       " 'subjectivity_score',\n",
       " 'avg_comment_length',\n",
       " 'nonactive_auto_lending',\n",
       " 'loans_in_first_week',\n",
       " 'usd_in_first_week']"
      ]
     },
     "execution_count": 107,
     "metadata": {},
     "output_type": "execute_result"
    }
   ],
   "source": [
    "#from seaborn import load_dataset\n",
    "#ax = barplot(x=\"day\", y=\"total_bill\", data=y_vals)\n",
    "#tips = load_dataset(\"tips\")\n",
    "list(X_100_train.columns[indices])"
   ]
  },
  {
   "cell_type": "code",
   "execution_count": 108,
   "metadata": {
    "collapsed": false
   },
   "outputs": [
    {
     "data": {
      "image/png": "[encoded data removed]",
      "text/plain": [
       "<matplotlib.figure.Figure at 0x1d5510f90>"
      ]
     },
     "metadata": {},
     "output_type": "display_data"
    }
   ],
   "source": [
    "preds = rf.predict_proba(X_100_test)[:,1]\n",
    "fpr, tpr, _ = metrics.roc_curve(y_test, preds)\n",
    "\n",
    "df = pd.DataFrame(dict(fpr=fpr, tpr=tpr))\n",
    "\n",
    "\n",
    "mpl_fig = plt.figure()\n",
    "ax = mpl_fig.add_subplot(111)\n",
    "\n",
    "mpl_fig.set_figwidth(6)\n",
    "mpl_fig.set_figheight(6)\n",
    "\n",
    "ax.plot(df['fpr'],df['tpr'])\n",
    "ax.plot([0,1],[0,1])\n",
    "ax.set_xlabel('fpr')\n",
    "ax.set_ylabel('tpr')\n",
    "plt.savefig('ROCcurve.pdf', bbox_inches='tight')"
   ]
  },
  {
   "cell_type": "markdown",
   "metadata": {},
   "source": [
    "## Random forest classifier with only comment features"
   ]
  },
  {
   "cell_type": "code",
   "execution_count": 109,
   "metadata": {
    "collapsed": false
   },
   "outputs": [
    {
     "data": {
      "text/plain": [
       "0.61430980486629727"
      ]
     },
     "execution_count": 109,
     "metadata": {},
     "output_type": "execute_result"
    }
   ],
   "source": [
    "rf2 = RandomForestClassifier(n_estimators=100,max_depth=5)\n",
    "\n",
    "rf2.fit(X_train2, y_train)\n",
    "predicted2 = rf2.predict(X_test2)\n",
    "\n",
    "# check the accuracy on the training set\n",
    "rf2.score(X_train2, y_train)\n"
   ]
  },
  {
   "cell_type": "code",
   "execution_count": 110,
   "metadata": {
    "collapsed": false
   },
   "outputs": [
    {
     "name": "stdout",
     "output_type": "stream",
     "text": [
      "Accuracy on test set is: 0.541573033708\n",
      "Precision is: 0.545150501672\n",
      "Recall is: 0.545150501672\n",
      "Area under ROC-curve is: 0.54154467326\n"
     ]
    }
   ],
   "source": [
    "print \"Accuracy on test set is: \" + str(metrics.accuracy_score(y_test, predicted2))\n",
    "print \"Precision is: \" + str(metrics.precision_score(y_test, predicted2))\n",
    "print \"Recall is: \" + str(metrics.recall_score(y_test, predicted2))\n",
    "print \"Area under ROC-curve is: \" + str(metrics.roc_auc_score(y_test, predicted2))"
   ]
  },
  {
   "cell_type": "code",
   "execution_count": 111,
   "metadata": {
    "collapsed": false
   },
   "outputs": [
    {
     "data": {
      "text/plain": [
       "0.5039325842696629"
      ]
     },
     "execution_count": 111,
     "metadata": {},
     "output_type": "execute_result"
    }
   ],
   "source": [
    "float(sum(y_test == 1)) / (sum(y_test == 1) + sum(y_test == 0))"
   ]
  },
  {
   "cell_type": "code",
   "execution_count": 112,
   "metadata": {
    "collapsed": false
   },
   "outputs": [
    {
     "data": {
      "image/png": "[encoded data removed]",
      "text/plain": [
       "<matplotlib.figure.Figure at 0x1d5555590>"
      ]
     },
     "metadata": {},
     "output_type": "display_data"
    }
   ],
   "source": [
    "importances = rf2.feature_importances_\n",
    "indices = np.argsort(importances)[::-1]\n",
    "\n",
    "mpl_fig = plt.figure()\n",
    "ax = mpl_fig.add_subplot(111)\n",
    "\n",
    "mpl_fig.set_figwidth(4.5)\n",
    "mpl_fig.set_figheight(4.5)\n",
    "\n",
    "\n",
    "N = len(importances)\n",
    "y_vals = importances\n",
    "ind = np.arange(N)    # the x locations for the groups\n",
    "width = 0.35       # the width of the bars: can also be len(x) sequence\n",
    "\n",
    "p1 = ax.bar(ind, y_vals[indices], width, color=(0.0/256, 51.0/256, 102.0/256))\n",
    "ax.set_ylabel('RF Variable importance')\n",
    "#ax.set_xlabel('Number of loans')\n",
    "#ax.set_title('Number of loans')\n",
    "\n",
    "ax.set_xticks(ind + width/2.)\n",
    "#ax.set_yticks(np.arange(0.0, 0.1, 1.0))\n",
    "ax.set_xticklabels(list(X_train2.columns[indices]),rotation=90)\n",
    "plt.savefig('RandomForest.pdf', bbox_inches='tight')"
   ]
  },
  {
   "cell_type": "markdown",
   "metadata": {},
   "source": [
    "## Correlations of features"
   ]
  },
  {
   "cell_type": "code",
   "execution_count": 113,
   "metadata": {
    "collapsed": false
   },
   "outputs": [
    {
     "data": {
      "text/html": [
       "<div>\n",
       "<table border=\"1\" class=\"dataframe\">\n",
       "  <thead>\n",
       "    <tr style=\"text-align: right;\">\n",
       "      <th></th>\n",
       "      <th>comments_within_week</th>\n",
       "      <th>polarity_score</th>\n",
       "      <th>subjectivity_score</th>\n",
       "      <th>avg_comment_length</th>\n",
       "    </tr>\n",
       "  </thead>\n",
       "  <tbody>\n",
       "    <tr>\n",
       "      <th>comments_within_week</th>\n",
       "      <td>1.087637</td>\n",
       "      <td>-0.022957</td>\n",
       "      <td>-0.004871</td>\n",
       "      <td>0.005274</td>\n",
       "    </tr>\n",
       "    <tr>\n",
       "      <th>polarity_score</th>\n",
       "      <td>-0.022957</td>\n",
       "      <td>0.971048</td>\n",
       "      <td>0.549564</td>\n",
       "      <td>-0.107632</td>\n",
       "    </tr>\n",
       "    <tr>\n",
       "      <th>subjectivity_score</th>\n",
       "      <td>-0.004871</td>\n",
       "      <td>0.549564</td>\n",
       "      <td>0.981463</td>\n",
       "      <td>0.167694</td>\n",
       "    </tr>\n",
       "    <tr>\n",
       "      <th>avg_comment_length</th>\n",
       "      <td>0.005274</td>\n",
       "      <td>-0.107632</td>\n",
       "      <td>0.167694</td>\n",
       "      <td>1.017543</td>\n",
       "    </tr>\n",
       "  </tbody>\n",
       "</table>\n",
       "</div>"
      ],
      "text/plain": [
       "                      comments_within_week  polarity_score  \\\n",
       "comments_within_week              1.087637       -0.022957   \n",
       "polarity_score                   -0.022957        0.971048   \n",
       "subjectivity_score               -0.004871        0.549564   \n",
       "avg_comment_length                0.005274       -0.107632   \n",
       "\n",
       "                      subjectivity_score  avg_comment_length  \n",
       "comments_within_week           -0.004871            0.005274  \n",
       "polarity_score                  0.549564           -0.107632  \n",
       "subjectivity_score              0.981463            0.167694  \n",
       "avg_comment_length              0.167694            1.017543  "
      ]
     },
     "execution_count": 113,
     "metadata": {},
     "output_type": "execute_result"
    }
   ],
   "source": [
    "X_train2.cov()"
   ]
  },
  {
   "cell_type": "code",
   "execution_count": 114,
   "metadata": {
    "collapsed": false
   },
   "outputs": [
    {
     "data": {
      "text/html": [
       "<div>\n",
       "<table border=\"1\" class=\"dataframe\">\n",
       "  <thead>\n",
       "    <tr style=\"text-align: right;\">\n",
       "      <th></th>\n",
       "      <th>comments_within_week</th>\n",
       "      <th>polarity_score</th>\n",
       "      <th>subjectivity_score</th>\n",
       "      <th>avg_comment_length</th>\n",
       "    </tr>\n",
       "  </thead>\n",
       "  <tbody>\n",
       "    <tr>\n",
       "      <th>comments_within_week</th>\n",
       "      <td>1.000000</td>\n",
       "      <td>-0.022339</td>\n",
       "      <td>-0.004715</td>\n",
       "      <td>0.005013</td>\n",
       "    </tr>\n",
       "    <tr>\n",
       "      <th>polarity_score</th>\n",
       "      <td>-0.022339</td>\n",
       "      <td>1.000000</td>\n",
       "      <td>0.562938</td>\n",
       "      <td>-0.108279</td>\n",
       "    </tr>\n",
       "    <tr>\n",
       "      <th>subjectivity_score</th>\n",
       "      <td>-0.004715</td>\n",
       "      <td>0.562938</td>\n",
       "      <td>1.000000</td>\n",
       "      <td>0.167804</td>\n",
       "    </tr>\n",
       "    <tr>\n",
       "      <th>avg_comment_length</th>\n",
       "      <td>0.005013</td>\n",
       "      <td>-0.108279</td>\n",
       "      <td>0.167804</td>\n",
       "      <td>1.000000</td>\n",
       "    </tr>\n",
       "  </tbody>\n",
       "</table>\n",
       "</div>"
      ],
      "text/plain": [
       "                      comments_within_week  polarity_score  \\\n",
       "comments_within_week              1.000000       -0.022339   \n",
       "polarity_score                   -0.022339        1.000000   \n",
       "subjectivity_score               -0.004715        0.562938   \n",
       "avg_comment_length                0.005013       -0.108279   \n",
       "\n",
       "                      subjectivity_score  avg_comment_length  \n",
       "comments_within_week           -0.004715            0.005013  \n",
       "polarity_score                  0.562938           -0.108279  \n",
       "subjectivity_score              1.000000            0.167804  \n",
       "avg_comment_length              0.167804            1.000000  "
      ]
     },
     "execution_count": 114,
     "metadata": {},
     "output_type": "execute_result"
    }
   ],
   "source": [
    "X_train2.corr()"
   ]
  },
  {
   "cell_type": "code",
   "execution_count": 115,
   "metadata": {
    "collapsed": false
   },
   "outputs": [
    {
     "data": {
      "image/png": "[encoded data removed]",
      "text/plain": [
       "<matplotlib.figure.Figure at 0x1d672c710>"
      ]
     },
     "metadata": {},
     "output_type": "display_data"
    }
   ],
   "source": [
    "plt.pcolor(X_train2.corr())\n",
    "plt.yticks(np.arange(0.5, len(X_train2.columns), 1), X_train2.columns)\n",
    "plt.xticks(np.arange(0.5, len(X_train2.columns), 1), X_train2.columns,rotation=90)\n",
    "plt.colorbar()\n",
    "#plt.set_xticklabels(list(X_train.columns[indices]),rotation=90)\n",
    "plt.savefig('VariableCorrelations.pdf', bbox_inches='tight')\n"
   ]
  },
  {
   "cell_type": "markdown",
   "metadata": {},
   "source": [
    "## Exploring and visualizing the comment data"
   ]
  },
  {
   "cell_type": "code",
   "execution_count": 116,
   "metadata": {
    "collapsed": false
   },
   "outputs": [
    {
     "data": {
      "text/plain": [
       "Index([               u'inviter',              u'gift_card',\n",
       "              u'gift_card_giver', u'nonactive_auto_lending',\n",
       "          u'loans_in_first_week',      u'usd_in_first_week',\n",
       "         u'comments_within_week',         u'polarity_score',\n",
       "           u'subjectivity_score',     u'avg_comment_length',\n",
       "       ...\n",
       "                         u'yang',                   u'year',\n",
       "                        u'years',                    u'yes',\n",
       "                    u'yesterday',                    u'yet',\n",
       "                        u'young',                u'zidisha',\n",
       "                 u'invited_orig',                u'invited'],\n",
       "      dtype='object', length=1011)"
      ]
     },
     "execution_count": 116,
     "metadata": {},
     "output_type": "execute_result"
    }
   ],
   "source": [
    "X.columns"
   ]
  },
  {
   "cell_type": "code",
   "execution_count": 117,
   "metadata": {
    "collapsed": false
   },
   "outputs": [],
   "source": [
    "test_df = lenders_df.loc[:,('polarity_score','subjectivity_score')]"
   ]
  },
  {
   "cell_type": "code",
   "execution_count": 118,
   "metadata": {
    "collapsed": true
   },
   "outputs": [],
   "source": [
    "test_df['retained'] = y"
   ]
  },
  {
   "cell_type": "code",
   "execution_count": 119,
   "metadata": {
    "collapsed": false
   },
   "outputs": [],
   "source": [
    "test_df = test_df.drop('polarity_score',1)"
   ]
  },
  {
   "cell_type": "code",
   "execution_count": 120,
   "metadata": {
    "collapsed": false
   },
   "outputs": [
    {
     "data": {
      "text/plain": [
       "0     NaN\n",
       "1     NaN\n",
       "2     NaN\n",
       "3     NaN\n",
       "4     NaN\n",
       "5     NaN\n",
       "6     NaN\n",
       "7     NaN\n",
       "8     NaN\n",
       "9    0.15\n",
       "Name: subjectivity_score, dtype: float64"
      ]
     },
     "execution_count": 120,
     "metadata": {},
     "output_type": "execute_result"
    }
   ],
   "source": [
    "test_df.subjectivity_score[:10]"
   ]
  },
  {
   "cell_type": "code",
   "execution_count": 121,
   "metadata": {
    "collapsed": false
   },
   "outputs": [],
   "source": [
    "test_df.loc[test_df.loc[:,'subjectivity_score'] > ( test_df.subjectivity_score.median() + 2*test_df.subjectivity_score.std() ),'subjectivity_score'] = test_df.subjectivity_score.median() + 2*test_df.subjectivity_score.std()\n",
    "test_df.loc[test_df.loc[:,'subjectivity_score'] < ( test_df.subjectivity_score.median() - 2*test_df.subjectivity_score.std() ),'subjectivity_score'] = test_df.subjectivity_score.median() - 2*test_df.subjectivity_score.std()"
   ]
  },
  {
   "cell_type": "code",
   "execution_count": 122,
   "metadata": {
    "collapsed": false
   },
   "outputs": [],
   "source": [
    "aaa = pd.cut(test_df.subjectivity_score.as_matrix(),3)"
   ]
  },
  {
   "cell_type": "code",
   "execution_count": 123,
   "metadata": {
    "collapsed": false
   },
   "outputs": [],
   "source": [
    "#test_df.retained[aaa==aaa.categories[0]]"
   ]
  },
  {
   "cell_type": "code",
   "execution_count": 124,
   "metadata": {
    "collapsed": false
   },
   "outputs": [],
   "source": [
    "retain_vec = [0]*3\n",
    "std_vec = [0]*3\n",
    "for i in range(0,3):\n",
    "    vec = test_df.retained[aaa==aaa.categories[i]]\n",
    "    retain_vec[i] = float(sum(vec==1)) / (sum(vec==1) + sum(vec==0))\n",
    "    std_vec[i] = (np.sqrt((sum(vec==1) + sum(vec==0)) * retain_vec[i] * (1- retain_vec[i]) ) / (sum(vec==1) + sum(vec==0)) )\n"
   ]
  },
  {
   "cell_type": "code",
   "execution_count": 125,
   "metadata": {
    "collapsed": false
   },
   "outputs": [
    {
     "data": {
      "text/plain": [
       "[0.5338189386056191, 0.5519930675909879, 0.5242030696576151]"
      ]
     },
     "execution_count": 125,
     "metadata": {},
     "output_type": "execute_result"
    }
   ],
   "source": [
    "retain_vec"
   ]
  },
  {
   "cell_type": "code",
   "execution_count": 126,
   "metadata": {
    "collapsed": false
   },
   "outputs": [
    {
     "data": {
      "text/plain": [
       "0.3962277116822572"
      ]
     },
     "execution_count": 126,
     "metadata": {},
     "output_type": "execute_result"
    }
   ],
   "source": [
    "test_df.subjectivity_score.median()"
   ]
  },
  {
   "cell_type": "code",
   "execution_count": 127,
   "metadata": {
    "collapsed": false
   },
   "outputs": [
    {
     "data": {
      "image/png": "[encoded data removed]",
      "text/plain": [
       "<matplotlib.figure.Figure at 0x1d672c3d0>"
      ]
     },
     "metadata": {},
     "output_type": "display_data"
    }
   ],
   "source": [
    "sns.set_context(\"notebook\", font_scale=1.5)\n",
    "\n",
    "mpl_fig = plt.figure()\n",
    "ax = mpl_fig.add_subplot(111)\n",
    "\n",
    "mpl_fig.set_figwidth(5)\n",
    "mpl_fig.set_figheight(5)\n",
    "\n",
    "N = 3\n",
    "y_vals = retain_vec\n",
    "ind = np.arange(N)    # the x locations for the groups\n",
    "width = 0.75       # the width of the bars: can also be len(x) sequence\n",
    "\n",
    "#p1 = ax.bar(ind, y_vals, width, color=(0.2588,0.4433,1.0), align='center')\n",
    "#p1 = ax.bar(ind, y_vals, width, color=(0.0/256, 51.0/256, 102.0/256), align='center')\n",
    "p1 = ax.bar(ind, y_vals, width, color=(80.0/256, 131.0/256, 182.0/256), align='center')\n",
    "ax.set_ylabel('Retention rate')\n",
    "\n",
    "ax.set_xticks(ind)# + width/2.)\n",
    "ax.set_yticks(np.arange(0.0, 1.001, 0.2))\n",
    "aaa.categories\n",
    "\n",
    "#labels = ['[]']*len(aaa.categories)\n",
    "#for i in range(0,len(aaa.categories)):\n",
    "#    labels[i] = aaa.categories[i]#labels[0] = '[0, 0.192]'\n",
    "#labels[0] = '[0.0, 0.192]'\n",
    "#labels[len(aaa.categories)-1] = '(0.616,1]'\n",
    "labels = ['subjective','neutral','objective']\n",
    "ax.set_xticklabels(labels)\n",
    "ax.text(ax.patches[0].get_x() + width*1/3,ax.patches[0].get_height() + 0.03,str(int(100*y_vals[0])) + '%')\n",
    "ax.text(ax.patches[1].get_x() + width*1/3,ax.patches[1].get_height() + 0.03,str(int(100*y_vals[1])) + '%')\n",
    "ax.text(ax.patches[2].get_x() + width*1/3,ax.patches[2].get_height() + 0.03,str(int(100*y_vals[2])) + '%')\n",
    "\n",
    "\n",
    "plt.savefig('comment_subjectivity.pdf', bbox_inches='tight')\n"
   ]
  },
  {
   "cell_type": "code",
   "execution_count": 128,
   "metadata": {
    "collapsed": true
   },
   "outputs": [],
   "source": [
    "test_df = lenders_df.loc[:,('polarity_score','subjectivity_score')]"
   ]
  },
  {
   "cell_type": "code",
   "execution_count": 129,
   "metadata": {
    "collapsed": true
   },
   "outputs": [],
   "source": [
    "test_df['retained'] = y"
   ]
  },
  {
   "cell_type": "code",
   "execution_count": 130,
   "metadata": {
    "collapsed": true
   },
   "outputs": [],
   "source": [
    "test_df = test_df.drop('subjectivity_score',1)"
   ]
  },
  {
   "cell_type": "code",
   "execution_count": 131,
   "metadata": {
    "collapsed": false
   },
   "outputs": [],
   "source": [
    "test_df.loc[test_df.loc[:,'polarity_score'] > ( test_df.polarity_score.median() + 2*test_df.polarity_score.std() ),'polarity_score'] = test_df.polarity_score.median() + 2*test_df.polarity_score.std()\n",
    "test_df.loc[test_df.loc[:,'polarity_score'] < ( test_df.polarity_score.median() - 2*test_df.polarity_score.std() ),'polarity_score'] = test_df.polarity_score.median() - 2*test_df.polarity_score.std()"
   ]
  },
  {
   "cell_type": "code",
   "execution_count": 132,
   "metadata": {
    "collapsed": false
   },
   "outputs": [],
   "source": [
    "aaa = pd.cut(test_df.polarity_score.as_matrix(),3)"
   ]
  },
  {
   "cell_type": "code",
   "execution_count": 133,
   "metadata": {
    "collapsed": true
   },
   "outputs": [],
   "source": [
    "retain_vec = [0]*3\n",
    "std_vec = [0]*3\n",
    "for i in range(0,3):\n",
    "    vec = test_df.retained[aaa==aaa.categories[i]]\n",
    "    retain_vec[i] = float(sum(vec==1)) / (sum(vec==1) + sum(vec==0))\n",
    "    std_vec[i] = (np.sqrt((sum(vec==1) + sum(vec==0)) * retain_vec[i] * (1- retain_vec[i]) ) / (sum(vec==1) + sum(vec==0)) )\n"
   ]
  },
  {
   "cell_type": "code",
   "execution_count": 134,
   "metadata": {
    "collapsed": false
   },
   "outputs": [
    {
     "data": {
      "text/plain": [
       "'(0.446, 0.708]'"
      ]
     },
     "execution_count": 134,
     "metadata": {},
     "output_type": "execute_result"
    }
   ],
   "source": [
    "aaa.categories[2]"
   ]
  },
  {
   "cell_type": "code",
   "execution_count": 135,
   "metadata": {
    "collapsed": false
   },
   "outputs": [
    {
     "data": {
      "image/png": "[encoded data removed]",
      "text/plain": [
       "<matplotlib.figure.Figure at 0x1d6c9ebd0>"
      ]
     },
     "metadata": {},
     "output_type": "display_data"
    }
   ],
   "source": [
    "mpl_fig = plt.figure()\n",
    "ax = mpl_fig.add_subplot(111)\n",
    "\n",
    "mpl_fig.set_figwidth(5)\n",
    "mpl_fig.set_figheight(5)\n",
    "\n",
    "N = 3\n",
    "y_vals = retain_vec\n",
    "ind = np.arange(N)    # the x locations for the groups\n",
    "width = 0.75       # the width of the bars: can also be len(x) sequence\n",
    "\n",
    "#p1 = ax.bar(ind, y_vals, width, color=(0.2588,0.4433,1.0), align='center')\n",
    "#p1 = ax.bar(ind, y_vals, width, color=(0.0/256, 51.0/256, 102.0/256), align='center')\n",
    "p1 = ax.bar(ind, y_vals, width, color=(80.0/256, 131.0/256, 182.0/256), align='center')\n",
    "ax.set_ylabel('Retention rate')\n",
    "\n",
    "ax.set_xticks(ind)# + width/2.)\n",
    "ax.set_yticks(np.arange(0.0, 1.001, 0.2))\n",
    "aaa.categories\n",
    "\n",
    "#labels = ['[]']*len(aaa.categories)\n",
    "#for i in range(0,len(aaa.categories)):\n",
    "#    labels[i] = aaa.categories[i]#labels[0] = '[0, 0.192]'\n",
    "#labels[0] = '[0.0, 0.192]'\n",
    "#labels[len(aaa.categories)-1] = '(0.616,1]'\n",
    "labels = ['pessimistic\\n/neutral','slightly\\noptimistic','overly\\noptimistic']\n",
    "ax.set_xticklabels(labels)\n",
    "ax.text(ax.patches[0].get_x() + width*1/3,ax.patches[0].get_height() + 0.03,str(int(100*y_vals[0])) + '%')\n",
    "ax.text(ax.patches[1].get_x() + width*1/3,ax.patches[1].get_height() + 0.03,str(int(100*y_vals[1])) + '%')\n",
    "ax.text(ax.patches[2].get_x() + width*1/3,ax.patches[2].get_height() + 0.03,str(int(100*y_vals[2])) + '%')\n",
    "\n",
    "\n",
    "plt.savefig('comment_polarity.pdf', bbox_inches='tight')\n"
   ]
  },
  {
   "cell_type": "code",
   "execution_count": 136,
   "metadata": {
    "collapsed": false
   },
   "outputs": [],
   "source": [
    "test_df = lenders_df.loc[:,('avg_comment_length','subjectivity_score')]"
   ]
  },
  {
   "cell_type": "code",
   "execution_count": 137,
   "metadata": {
    "collapsed": true
   },
   "outputs": [],
   "source": [
    "test_df['retained'] = y"
   ]
  },
  {
   "cell_type": "code",
   "execution_count": 138,
   "metadata": {
    "collapsed": true
   },
   "outputs": [],
   "source": [
    "test_df = test_df.drop('subjectivity_score',1)"
   ]
  },
  {
   "cell_type": "code",
   "execution_count": 139,
   "metadata": {
    "collapsed": true
   },
   "outputs": [],
   "source": [
    "test_df.loc[test_df.loc[:,'avg_comment_length'] > ( test_df.avg_comment_length.median() + 2*test_df.avg_comment_length.std() ),'avg_comment_length'] = test_df.avg_comment_length.median() + 2*test_df.avg_comment_length.std()\n",
    "test_df.loc[test_df.loc[:,'avg_comment_length'] < ( test_df.avg_comment_length.median() - 2*test_df.avg_comment_length.std() ),'avg_comment_length'] = test_df.avg_comment_length.median() - 2*test_df.avg_comment_length.std()"
   ]
  },
  {
   "cell_type": "code",
   "execution_count": 140,
   "metadata": {
    "collapsed": true
   },
   "outputs": [],
   "source": [
    "aaa = pd.cut(test_df.avg_comment_length.as_matrix(),4)"
   ]
  },
  {
   "cell_type": "code",
   "execution_count": 141,
   "metadata": {
    "collapsed": false
   },
   "outputs": [],
   "source": [
    "retain_vec = [0]*4\n",
    "std_vec = [0]*4\n",
    "for i in range(0,4):\n",
    "    vec = test_df.retained[aaa==aaa.categories[i]]\n",
    "    retain_vec[i] = float(sum(vec==1)) / (sum(vec==1) + sum(vec==0))\n",
    "    std_vec[i] = (np.sqrt((sum(vec==1) + sum(vec==0)) * retain_vec[i] * (1- retain_vec[i]) ) / (sum(vec==1) + sum(vec==0)) )\n"
   ]
  },
  {
   "cell_type": "code",
   "execution_count": 142,
   "metadata": {
    "collapsed": false
   },
   "outputs": [
    {
     "data": {
      "text/plain": [
       "'(49.994, 74.99]'"
      ]
     },
     "execution_count": 142,
     "metadata": {},
     "output_type": "execute_result"
    }
   ],
   "source": [
    "aaa.categories[2]"
   ]
  },
  {
   "cell_type": "code",
   "execution_count": 143,
   "metadata": {
    "collapsed": false
   },
   "outputs": [
    {
     "data": {
      "image/png": "[encoded data removed]",
      "text/plain": [
       "<matplotlib.figure.Figure at 0x1d672c650>"
      ]
     },
     "metadata": {},
     "output_type": "display_data"
    }
   ],
   "source": [
    "mpl_fig = plt.figure()\n",
    "ax = mpl_fig.add_subplot(111)\n",
    "\n",
    "mpl_fig.set_figwidth(5)\n",
    "mpl_fig.set_figheight(5)\n",
    "\n",
    "N = 4\n",
    "y_vals = retain_vec\n",
    "ind = np.arange(N)    # the x locations for the groups\n",
    "width = 0.75       # the width of the bars: can also be len(x) sequence\n",
    "\n",
    "#p1 = ax.bar(ind, y_vals, width, color=(0.2588,0.4433,1.0), align='center')\n",
    "#p1 = ax.bar(ind, y_vals, width, color=(0.0/256, 51.0/256, 102.0/256), align='center')\n",
    "p1 = ax.bar(ind, y_vals, width, color=(80.0/256, 131.0/256, 182.0/256), align='center')\n",
    "ax.set_ylabel('Retention rate')\n",
    "\n",
    "ax.set_xticks(ind)# + width/2.)\n",
    "ax.set_yticks(np.arange(0.0, 1.001, 0.2))\n",
    "aaa.categories\n",
    "\n",
    "#labels = ['[]']*len(aaa.categories)\n",
    "#for i in range(0,len(aaa.categories)):\n",
    "#    labels[i] = aaa.categories[i]#labels[0] = '[0, 0.192]'\n",
    "#labels[0] = '[0.0, 0.192]'\n",
    "#labels[len(aaa.categories)-1] = '(0.616,1]'\n",
    "labels = ['very\\nshort','short','long','very\\nlong']\n",
    "ax.set_xticklabels(labels)\n",
    "ax.text(ax.patches[0].get_x() + width*1/6,ax.patches[0].get_height() + 0.03,str(int(100*y_vals[0])) + '%')\n",
    "ax.text(ax.patches[1].get_x() + width*1/6,ax.patches[1].get_height() + 0.03,str(int(100*y_vals[1])) + '%')\n",
    "ax.text(ax.patches[2].get_x() + width*1/6,ax.patches[2].get_height() + 0.03,str(int(100*y_vals[2])) + '%')\n",
    "ax.text(ax.patches[3].get_x() + width*1/6,ax.patches[3].get_height() + 0.03,str(int(100*y_vals[3])) + '%')\n",
    "\n",
    "\n",
    "plt.savefig('comment_length.pdf', bbox_inches='tight')\n"
   ]
  },
  {
   "cell_type": "code",
   "execution_count": 144,
   "metadata": {
    "collapsed": false
   },
   "outputs": [],
   "source": [
    "number_of_words = borrower_comments_df.loc[:,'message'].apply(nltk.word_tokenize).apply(len)"
   ]
  },
  {
   "cell_type": "code",
   "execution_count": 145,
   "metadata": {
    "collapsed": false
   },
   "outputs": [],
   "source": [
    "lenders_df['distance_score'] = (lenders_df['polarity_score']-lenders_df['polarity_score'].mean()) + (lenders_df['subjectivity_score']-lenders_df['subjectivity_score'].mean())"
   ]
  },
  {
   "cell_type": "code",
   "execution_count": 146,
   "metadata": {
    "collapsed": false
   },
   "outputs": [
    {
     "data": {
      "image/png": "[encoded data removed]",
      "text/plain": [
       "<matplotlib.figure.Figure at 0x1d6e1f490>"
      ]
     },
     "metadata": {},
     "output_type": "display_data"
    }
   ],
   "source": [
    "retained_points = lenders_df.loc[lenders_df['retained']==1,('comments_within_week','avg_comment_length')]\n",
    "#retained_points = retained_points[retained_points.distance_score.notnull()]\n",
    "ax = sns.regplot(x=\"comments_within_week\", y=\"avg_comment_length\", data=retained_points[:1000],fit_reg=False)"
   ]
  },
  {
   "cell_type": "code",
   "execution_count": 147,
   "metadata": {
    "collapsed": false
   },
   "outputs": [
    {
     "data": {
      "image/png": "[encoded data removed]",
      "text/plain": [
       "<matplotlib.figure.Figure at 0x1d7416250>"
      ]
     },
     "metadata": {},
     "output_type": "display_data"
    }
   ],
   "source": [
    "notretained_points = lenders_df.loc[lenders_df['retained']==0,('comments_within_week','avg_comment_length')]\n",
    "#notretained_points = notretained_points[notretained_points.distance_score.notnull()]\n",
    "ax = sns.regplot(x=\"comments_within_week\", y=\"avg_comment_length\", data=notretained_points[:1000],fit_reg=False,color='red',marker='.')\n",
    "ax = sns.regplot(x=\"comments_within_week\", y=\"avg_comment_length\", data=retained_points[:1000],fit_reg=False,marker='.')\n"
   ]
  },
  {
   "cell_type": "code",
   "execution_count": 148,
   "metadata": {
    "collapsed": false
   },
   "outputs": [
    {
     "data": {
      "image/png": "[encoded data removed]",
      "text/plain": [
       "<matplotlib.figure.Figure at 0x28d25ba50>"
      ]
     },
     "metadata": {},
     "output_type": "display_data"
    }
   ],
   "source": [
    "notretained_points = lenders_df.loc[lenders_df['retained']==0,('comments_within_week','avg_comment_length')]\n",
    "notretained_points = notretained_points[notretained_points.avg_comment_length.notnull()]\n",
    "ax = sns.regplot(x=\"comments_within_week\", y=\"avg_comment_length\", data=retained_points[:1000],fit_reg=False,marker='.')\n",
    "ax = sns.regplot(x=\"comments_within_week\", y=\"avg_comment_length\", data=notretained_points[:1000],fit_reg=False,color='red',marker='.')\n"
   ]
  },
  {
   "cell_type": "code",
   "execution_count": 149,
   "metadata": {
    "collapsed": false
   },
   "outputs": [
    {
     "data": {
      "image/png": "[encoded data removed]",
      "text/plain": [
       "<matplotlib.figure.Figure at 0x1d9adf590>"
      ]
     },
     "metadata": {},
     "output_type": "display_data"
    },
    {
     "data": {
      "image/png": "[encoded data removed]",
      "text/plain": [
       "<matplotlib.figure.Figure at 0x1db1f1e10>"
      ]
     },
     "metadata": {},
     "output_type": "display_data"
    }
   ],
   "source": [
    "ax = sns.jointplot(x=\"comments_within_week\", y=\"avg_comment_length\", data=retained_points[:2000]);\n",
    "ax = sns.jointplot(x=\"comments_within_week\", y=\"avg_comment_length\", data=notretained_points[:2000]);"
   ]
  },
  {
   "cell_type": "code",
   "execution_count": 150,
   "metadata": {
    "collapsed": false
   },
   "outputs": [
    {
     "data": {
      "image/png": "[encoded data removed]",
      "text/plain": [
       "<matplotlib.figure.Figure at 0x1dbb00110>"
      ]
     },
     "metadata": {},
     "output_type": "display_data"
    }
   ],
   "source": [
    "sns.stripplot(x=\"retained\", y=\"avg_comment_length\", data=lenders_df[:500],jitter=True);"
   ]
  },
  {
   "cell_type": "code",
   "execution_count": 151,
   "metadata": {
    "collapsed": false
   },
   "outputs": [
    {
     "name": "stderr",
     "output_type": "stream",
     "text": [
      "/Users/eriksjoeland/anaconda/lib/python2.7/site-packages/pandas/core/indexing.py:284: SettingWithCopyWarning: \n",
      "A value is trying to be set on a copy of a slice from a DataFrame.\n",
      "Try using .loc[row_indexer,col_indexer] = value instead\n",
      "\n",
      "See the caveats in the documentation: http://pandas.pydata.org/pandas-docs/stable/indexing.html#indexing-view-versus-copy\n",
      "  self.obj[key] = _infer_fill_value(value)\n",
      "/Users/eriksjoeland/anaconda/lib/python2.7/site-packages/pandas/core/indexing.py:461: SettingWithCopyWarning: \n",
      "A value is trying to be set on a copy of a slice from a DataFrame.\n",
      "Try using .loc[row_indexer,col_indexer] = value instead\n",
      "\n",
      "See the caveats in the documentation: http://pandas.pydata.org/pandas-docs/stable/indexing.html#indexing-view-versus-copy\n",
      "  self.obj[item] = s\n"
     ]
    }
   ],
   "source": [
    "retained_df = lenders_df[lenders_df.retained==1]\n",
    "notretained_df = lenders_df[lenders_df.retained==0]\n",
    "retained_df.loc[:,('norm_avg_comment_length')] = retained_df.loc[:,('avg_comment_length')] / retained_df.loc[:,('avg_comment_length')].sum()\n",
    "notretained_df.loc[:,('norm_avg_comment_length')] = notretained_df.loc[:,('avg_comment_length')] / notretained_df.loc[:,('avg_comment_length')].sum()"
   ]
  },
  {
   "cell_type": "code",
   "execution_count": 152,
   "metadata": {
    "collapsed": true
   },
   "outputs": [],
   "source": [
    "retained_test = retained_df.avg_comment_length[retained_df.avg_comment_length.notnull()]\n",
    "notretained_test = notretained_df.avg_comment_length[notretained_df.avg_comment_length.notnull()]"
   ]
  },
  {
   "cell_type": "code",
   "execution_count": 153,
   "metadata": {
    "collapsed": false
   },
   "outputs": [],
   "source": [
    "retained_test = retained_test[retained_test < 120]\n",
    "notretained_test = notretained_test[notretained_test < 120]"
   ]
  },
  {
   "cell_type": "code",
   "execution_count": 154,
   "metadata": {
    "collapsed": false
   },
   "outputs": [
    {
     "data": {
      "image/png": "[encoded data removed]",
      "text/plain": [
       "<matplotlib.figure.Figure at 0x1dbb91cd0>"
      ]
     },
     "metadata": {},
     "output_type": "display_data"
    }
   ],
   "source": [
    "sns.distplot(retained_test,kde=False,norm_hist=True);\n",
    "sns.distplot(notretained_test,kde=False,norm_hist=True,color='red');"
   ]
  },
  {
   "cell_type": "code",
   "execution_count": 155,
   "metadata": {
    "collapsed": false
   },
   "outputs": [
    {
     "data": {
      "image/png": "[encoded data removed]",
      "text/plain": [
       "<matplotlib.figure.Figure at 0x1db1bb190>"
      ]
     },
     "metadata": {},
     "output_type": "display_data"
    }
   ],
   "source": [
    "sns.distplot(retained_df.avg_comment_length[retained_df.avg_comment_length.notnull()],kde=False,norm_hist=True);\n"
   ]
  },
  {
   "cell_type": "code",
   "execution_count": 156,
   "metadata": {
    "collapsed": false
   },
   "outputs": [
    {
     "data": {
      "image/png": "[encoded data removed]",
      "text/plain": [
       "<matplotlib.figure.Figure at 0x1db1a27d0>"
      ]
     },
     "metadata": {},
     "output_type": "display_data"
    }
   ],
   "source": [
    "sns.distplot(retained_df.comments_within_week[retained_df.comments_within_week.notnull()],kde=False,norm_hist=True);\n",
    "sns.distplot(notretained_df.comments_within_week[notretained_df.comments_within_week.notnull()],kde=False,norm_hist=True,color='red');"
   ]
  },
  {
   "cell_type": "code",
   "execution_count": 157,
   "metadata": {
    "collapsed": true
   },
   "outputs": [],
   "source": [
    "retained_test = retained_df.comments_within_week[retained_df.comments_within_week.notnull()]\n",
    "notretained_test = notretained_df.comments_within_week[notretained_df.comments_within_week.notnull()]\n",
    "retained_test = retained_test[retained_test < 25]\n",
    "notretained_test = notretained_test[notretained_test < 25]"
   ]
  },
  {
   "cell_type": "code",
   "execution_count": 158,
   "metadata": {
    "collapsed": false
   },
   "outputs": [
    {
     "data": {
      "image/png": "[encoded data removed]",
      "text/plain": [
       "<matplotlib.figure.Figure at 0x1d2d8fa90>"
      ]
     },
     "metadata": {},
     "output_type": "display_data"
    }
   ],
   "source": [
    "sns.distplot(retained_test,kde=False,norm_hist=True);\n",
    "sns.distplot(notretained_test,kde=False,norm_hist=True,color='red');"
   ]
  },
  {
   "cell_type": "code",
   "execution_count": 159,
   "metadata": {
    "collapsed": false
   },
   "outputs": [
    {
     "data": {
      "image/png": "[encoded data removed]",
      "text/plain": [
       "<matplotlib.figure.Figure at 0x1db17a650>"
      ]
     },
     "metadata": {},
     "output_type": "display_data"
    }
   ],
   "source": [
    "sns.distplot(retained_df.comments_within_week[retained_df.comments_within_week.notnull()],kde=False,norm_hist=True);"
   ]
  },
  {
   "cell_type": "code",
   "execution_count": 160,
   "metadata": {
    "collapsed": false
   },
   "outputs": [
    {
     "data": {
      "image/png": "[encoded data removed]",
      "text/plain": [
       "<matplotlib.figure.Figure at 0x1d221b650>"
      ]
     },
     "metadata": {},
     "output_type": "display_data"
    }
   ],
   "source": [
    "sns.distplot(retained_df.subjectivity_score[retained_df.subjectivity_score.notnull()],kde=False,norm_hist=True);\n",
    "sns.distplot(notretained_df.subjectivity_score[notretained_df.subjectivity_score.notnull()],kde=False,norm_hist=True,color='red');"
   ]
  },
  {
   "cell_type": "code",
   "execution_count": 161,
   "metadata": {
    "collapsed": false
   },
   "outputs": [
    {
     "data": {
      "image/png": "[encoded data removed]",
      "text/plain": [
       "<matplotlib.figure.Figure at 0x1d54b3210>"
      ]
     },
     "metadata": {},
     "output_type": "display_data"
    }
   ],
   "source": [
    "mpl_fig = plt.figure()\n",
    "mpl_fig.set_figwidth(5)\n",
    "mpl_fig.set_figheight(5)\n",
    "ax = mpl_fig.add_subplot(1,1,1)\n",
    "ax = sns.distplot(retained_df.subjectivity_score[retained_df.subjectivity_score.notnull()],kde=False,norm_hist=True);"
   ]
  },
  {
   "cell_type": "code",
   "execution_count": 162,
   "metadata": {
    "collapsed": false
   },
   "outputs": [
    {
     "data": {
      "image/png": "[encoded data removed]",
      "text/plain": [
       "<matplotlib.figure.Figure at 0x28d4cb450>"
      ]
     },
     "metadata": {},
     "output_type": "display_data"
    }
   ],
   "source": [
    "sns.distplot(retained_df.polarity_score[retained_df.polarity_score.notnull()],kde=False,norm_hist=True);\n",
    "sns.distplot(notretained_df.polarity_score[notretained_df.polarity_score.notnull()],kde=False,norm_hist=True,color='red');"
   ]
  },
  {
   "cell_type": "code",
   "execution_count": 163,
   "metadata": {
    "collapsed": false
   },
   "outputs": [
    {
     "data": {
      "text/plain": [
       "<matplotlib.lines.Line2D at 0x1d50504d0>"
      ]
     },
     "execution_count": 163,
     "metadata": {},
     "output_type": "execute_result"
    },
    {
     "data": {
      "image/png": "[encoded data removed]",
      "text/plain": [
       "<matplotlib.figure.Figure at 0x1dba96210>"
      ]
     },
     "metadata": {},
     "output_type": "display_data"
    }
   ],
   "source": [
    "ax = sns.distplot(retained_df.polarity_score[retained_df.polarity_score.notnull()],kde=False,norm_hist=True);\n",
    "ax.axvline(x=0.5)"
   ]
  },
  {
   "cell_type": "code",
   "execution_count": 164,
   "metadata": {
    "collapsed": true
   },
   "outputs": [],
   "source": [
    "#ax = s.hist()  # s is an instance of Series\n",
    "#fig = ax.get_figure()\n",
    "#fig.savefig('/path/to/figure.pdf')"
   ]
  },
  {
   "cell_type": "code",
   "execution_count": 165,
   "metadata": {
    "collapsed": false
   },
   "outputs": [],
   "source": [
    "polarity_vec = retained_df.polarity_score[retained_df.polarity_score.notnull()]\n",
    "polarity_vec.to_csv('/Users/eriksjoeland/Desktop/Insight/Project/polarity_vec.csv')"
   ]
  },
  {
   "cell_type": "code",
   "execution_count": 166,
   "metadata": {
    "collapsed": true
   },
   "outputs": [],
   "source": [
    "subjectivity_vec = retained_df.subjectivity_score[retained_df.subjectivity_score.notnull()]\n",
    "subjectivity_vec.to_csv('/Users/eriksjoeland/Desktop/Insight/Project/subjectivity_vec.csv')"
   ]
  },
  {
   "cell_type": "code",
   "execution_count": 167,
   "metadata": {
    "collapsed": true
   },
   "outputs": [],
   "source": [
    "comments_vec = retained_df.avg_comment_length[retained_df.avg_comment_length.notnull()]\n",
    "comments_vec.to_csv('/Users/eriksjoeland/Desktop/Insight/Project/comments_vec.csv')"
   ]
  },
  {
   "cell_type": "code",
   "execution_count": 168,
   "metadata": {
    "collapsed": false
   },
   "outputs": [],
   "source": [
    "polarity_vec_in = pd.Series.from_csv('/Users/eriksjoeland/Desktop/Insight/Project/polarity_vec.csv')"
   ]
  },
  {
   "cell_type": "code",
   "execution_count": 169,
   "metadata": {
    "collapsed": false
   },
   "outputs": [
    {
     "data": {
      "image/png": "[encoded data removed]",
      "text/plain": [
       "<matplotlib.figure.Figure at 0x28d4ea990>"
      ]
     },
     "metadata": {},
     "output_type": "display_data"
    }
   ],
   "source": [
    "ax = sns.distplot(polarity_vec_in,kde=False,norm_hist=True);\n"
   ]
  },
  {
   "cell_type": "code",
   "execution_count": 170,
   "metadata": {
    "collapsed": false
   },
   "outputs": [
    {
     "data": {
      "image/png": "[encoded data removed]",
      "text/plain": [
       "<matplotlib.figure.Figure at 0x179f18fd0>"
      ]
     },
     "metadata": {},
     "output_type": "display_data"
    }
   ],
   "source": [
    "score_1 = 0.5\n",
    "score_2 = 0.5\n",
    "score_3 = 0.5\n",
    "polarity_vec = pd.Series.from_csv('/Users/eriksjoeland/Desktop/Insight/flask_app/flaskexample/static/csv/polarity_vec.csv')\n",
    "#  polarity_vec = pd.Series.from_csv('../static/csv/polarity_vec.csv')\n",
    "ax1 = sns.distplot(polarity_vec,kde=False);\n",
    "ax1.axvline(x=score_1)\n",
    "fig1 = ax1.get_figure()\n",
    "#fig1.savefig('/Users/eriksjoeland/Desktop/Insight/flask_app/flaskexample/static/img/polarity.pdf')\n",
    "plt.cla()   # Clear axis\n",
    "plt.clf()   # Clear figure\n",
    "plt.close() # Close a figure window\n",
    "\n",
    "subjectivity_vec = pd.Series.from_csv('/Users/eriksjoeland/Desktop/Insight/flask_app/flaskexample/static/csv/subjectivity_vec.csv')\n",
    "#  polarity_vec = pd.Series.from_csv('../static/csv/polarity_vec.csv')\n",
    "ax2 = sns.distplot(subjectivity_vec,kde=False,norm_hist=True);\n",
    "ax2.axvline(x=score_2)\n",
    "fig2 = ax2.get_figure()\n",
    "#fig2.savefig('/Users/eriksjoeland/Desktop/Insight/flask_app/flaskexample/static/img/subjectivity.pdf')\n",
    "plt.cla()   # Clear axis\n",
    "plt.clf()   # Clear figure\n",
    "plt.close() # Close a figure window\n",
    "\n",
    "comments_vec = pd.Series.from_csv('/Users/eriksjoeland/Desktop/Insight/flask_app/flaskexample/static/csv/comments_vec.csv')\n",
    "#  polarity_vec = pd.Series.from_csv('../static/csv/polarity_vec.csv')\n",
    "ax3 = sns.distplot(comments_vec,kde=False);\n",
    "ax3.axvline(x=score_3)\n",
    "ax3.set_xlabel('Comment length')\n",
    "ax3.set_xticks(np.arange(0.0, 500.001, 100))\n",
    "\n",
    "fig3 = ax3.get_figure()\n",
    "#fig3.savefig('/Users/eriksjoeland/Desktop/Insight/flask_app/flaskexample/static/img/comments.pdf')\n"
   ]
  },
  {
   "cell_type": "code",
   "execution_count": 171,
   "metadata": {
    "collapsed": false
   },
   "outputs": [
    {
     "data": {
      "image/png": "[encoded data removed]",
      "text/plain": [
       "<matplotlib.figure.Figure at 0x1de4e1410>"
      ]
     },
     "metadata": {},
     "output_type": "display_data"
    }
   ],
   "source": [
    "red_patch = mpatches.Patch(color='#edc7cd', label='Needs improvement')\n",
    "yellow_patch = mpatches.Patch(color='#e3e3cd', label='Acceptable')\n",
    "green_patch = mpatches.Patch(color='#c7dacd', label='Perfect')\n",
    "black_patch = mpatches.Patch(color='#000000', label='Your comment')\n",
    "\n",
    "\n",
    "\n",
    "ax1 = sns.distplot(polarity_vec,kde=False);\n",
    "ax1.axvline(x=score_1,color='black')\n",
    "ax1.set_xlabel('Optimism')\n",
    "ax1.set_ylabel('Count')\n",
    "ax1.axvspan(0.1, 0.6, facecolor='g', alpha=0.15)\n",
    "ax1.axvspan(0, 0.1, facecolor='y', alpha=0.15)\n",
    "ax1.axvspan(0.6, 1, facecolor='y', alpha=0.15)\n",
    "ax1.axvspan(-1,0, facecolor='r', alpha=0.15)\n",
    "lgd = ax1.legend(handles=[red_patch,yellow_patch,green_patch,black_patch], bbox_to_anchor=(1.05, 1),loc=2, borderaxespad=0.)\n",
    "#  ax1.legend(handles=[red_patch], bbox_to_anchor=(1.05, 1),loc=2, borderaxespad=0.)\n",
    "fig1 = ax1.get_figure()\n",
    "polarity_name = 'polarity.png'\n",
    "fig1.savefig('/Users/eriksjoeland/Desktop/Insight/flask_app/flaskexample/' + polarity_name, bbox_extra_artists=(lgd,), bbox_inches='tight')\n"
   ]
  },
  {
   "cell_type": "code",
   "execution_count": null,
   "metadata": {
    "collapsed": true
   },
   "outputs": [],
   "source": []
  }
 ],
 "metadata": {
  "kernelspec": {
   "display_name": "Python 2",
   "language": "python",
   "name": "python2"
  },
  "language_info": {
   "codemirror_mode": {
    "name": "ipython",
    "version": 2
   },
   "file_extension": ".py",
   "mimetype": "text/x-python",
   "name": "python",
   "nbconvert_exporter": "python",
   "pygments_lexer": "ipython2",
   "version": "2.7.11"
  }
 },
 "nbformat": 4,
 "nbformat_minor": 0
}
